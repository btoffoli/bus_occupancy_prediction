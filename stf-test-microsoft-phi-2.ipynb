{
 "cells": [
  {
   "cell_type": "markdown",
   "id": "006f15ac",
   "metadata": {},
   "source": [
    "Importando bibliotecas"
   ]
  },
  {
   "cell_type": "markdown",
   "id": "511bc102",
   "metadata": {},
   "source": [
    "Iniciando modelo Microsoft PHI 2"
   ]
  },
  {
   "cell_type": "code",
   "execution_count": 1,
   "id": "e95f542d-173e-4575-a23a-4df666e96f60",
   "metadata": {},
   "outputs": [
    {
     "name": "stderr",
     "output_type": "stream",
     "text": [
      "INFO:fine_tune:self.model_name: microsoft/phi-2\n",
      "DEBUG:urllib3.connectionpool:Starting new HTTPS connection (1): huggingface.co:443\n",
      "DEBUG:urllib3.connectionpool:https://huggingface.co:443 \"HEAD /microsoft/phi-2/resolve/main/config.json HTTP/1.1\" 200 0\n",
      "DEBUG:filelock:Attempting to acquire lock 128329242528464 on /home/btoffoli/.cache/huggingface/hub/.locks/models--microsoft--phi-2/011968cc02a5cca9fd46ecd994fc961e6906c0bd.lock\n",
      "DEBUG:filelock:Lock 128329242528464 acquired on /home/btoffoli/.cache/huggingface/hub/.locks/models--microsoft--phi-2/011968cc02a5cca9fd46ecd994fc961e6906c0bd.lock\n",
      "DEBUG:urllib3.connectionpool:https://huggingface.co:443 \"GET /microsoft/phi-2/resolve/main/config.json HTTP/1.1\" 200 735\n"
     ]
    },
    {
     "data": {
      "application/vnd.jupyter.widget-view+json": {
       "model_id": "52ac966f30b44b28a68319cdcb49da73",
       "version_major": 2,
       "version_minor": 0
      },
      "text/plain": [
       "config.json:   0%|          | 0.00/735 [00:00<?, ?B/s]"
      ]
     },
     "metadata": {},
     "output_type": "display_data"
    },
    {
     "name": "stderr",
     "output_type": "stream",
     "text": [
      "DEBUG:filelock:Attempting to release lock 128329242528464 on /home/btoffoli/.cache/huggingface/hub/.locks/models--microsoft--phi-2/011968cc02a5cca9fd46ecd994fc961e6906c0bd.lock\n",
      "DEBUG:filelock:Lock 128329242528464 released on /home/btoffoli/.cache/huggingface/hub/.locks/models--microsoft--phi-2/011968cc02a5cca9fd46ecd994fc961e6906c0bd.lock\n",
      "DEBUG:urllib3.connectionpool:https://huggingface.co:443 \"HEAD /microsoft/phi-2/resolve/main/adapter_config.json HTTP/1.1\" 404 0\n",
      "DEBUG:bitsandbytes.cextension:Loading bitsandbytes native library from: /home/btoffoli/projects/ufes/gpt/bus_occupancy_prediction/.venv/lib/python3.13/site-packages/bitsandbytes/libbitsandbytes_cuda124.so\n",
      "DEBUG:urllib3.connectionpool:https://huggingface.co:443 \"HEAD /microsoft/phi-2/resolve/main/model.safetensors HTTP/1.1\" 404 0\n",
      "DEBUG:urllib3.connectionpool:https://huggingface.co:443 \"HEAD /microsoft/phi-2/resolve/main/model.safetensors.index.json HTTP/1.1\" 200 0\n",
      "DEBUG:filelock:Attempting to acquire lock 128329241698192 on /home/btoffoli/.cache/huggingface/hub/.locks/models--microsoft--phi-2/fd9e856cfa23cd4bd5122f982feba515d23260a5.lock\n",
      "DEBUG:filelock:Lock 128329241698192 acquired on /home/btoffoli/.cache/huggingface/hub/.locks/models--microsoft--phi-2/fd9e856cfa23cd4bd5122f982feba515d23260a5.lock\n",
      "DEBUG:urllib3.connectionpool:https://huggingface.co:443 \"GET /microsoft/phi-2/resolve/main/model.safetensors.index.json HTTP/1.1\" 200 35716\n"
     ]
    },
    {
     "data": {
      "application/vnd.jupyter.widget-view+json": {
       "model_id": "4c667c8e000c49169626359c40a6415e",
       "version_major": 2,
       "version_minor": 0
      },
      "text/plain": [
       "model.safetensors.index.json:   0%|          | 0.00/35.7k [00:00<?, ?B/s]"
      ]
     },
     "metadata": {},
     "output_type": "display_data"
    },
    {
     "name": "stderr",
     "output_type": "stream",
     "text": [
      "DEBUG:filelock:Attempting to release lock 128329241698192 on /home/btoffoli/.cache/huggingface/hub/.locks/models--microsoft--phi-2/fd9e856cfa23cd4bd5122f982feba515d23260a5.lock\n",
      "DEBUG:filelock:Lock 128329241698192 released on /home/btoffoli/.cache/huggingface/hub/.locks/models--microsoft--phi-2/fd9e856cfa23cd4bd5122f982feba515d23260a5.lock\n",
      "DEBUG:urllib3.connectionpool:https://huggingface.co:443 \"GET /api/models/microsoft/phi-2/revision/main HTTP/1.1\" 200 4786\n",
      "DEBUG:urllib3.connectionpool:Starting new HTTPS connection (1): huggingface.co:443\n",
      "DEBUG:urllib3.connectionpool:Starting new HTTPS connection (1): huggingface.co:443\n"
     ]
    },
    {
     "data": {
      "application/vnd.jupyter.widget-view+json": {
       "model_id": "bbb1d67b4c1347979654f9ef00bf3ffc",
       "version_major": 2,
       "version_minor": 0
      },
      "text/plain": [
       "Fetching 2 files:   0%|          | 0/2 [00:00<?, ?it/s]"
      ]
     },
     "metadata": {},
     "output_type": "display_data"
    },
    {
     "name": "stderr",
     "output_type": "stream",
     "text": [
      "DEBUG:urllib3.connectionpool:https://huggingface.co:443 \"HEAD /microsoft/phi-2/resolve/ef382358ec9e382308935a992d908de099b64c23/model-00002-of-00002.safetensors HTTP/1.1\" 302 0\n",
      "DEBUG:filelock:Attempting to acquire lock 128329241705232 on /home/btoffoli/.cache/huggingface/hub/.locks/models--microsoft--phi-2/17b98759e4b7953cbcf63ec49be7edbc9b863b57c207d84a52f5d2f5bcfcf6b4.lock\n",
      "DEBUG:filelock:Lock 128329241705232 acquired on /home/btoffoli/.cache/huggingface/hub/.locks/models--microsoft--phi-2/17b98759e4b7953cbcf63ec49be7edbc9b863b57c207d84a52f5d2f5bcfcf6b4.lock\n",
      "DEBUG:urllib3.connectionpool:Starting new HTTPS connection (1): cdn-lfs-us-1.hf.co:443\n",
      "DEBUG:urllib3.connectionpool:https://cdn-lfs-us-1.hf.co:443 \"GET /repos/0b/66/0b662aa2d9932cfa2780256fe6ac653680ac88c327ccf3bff04d53efdc120edb/17b98759e4b7953cbcf63ec49be7edbc9b863b57c207d84a52f5d2f5bcfcf6b4?response-content-disposition=inline%3B+filename*%3DUTF-8%27%27model-00002-of-00002.safetensors%3B+filename%3D%22model-00002-of-00002.safetensors%22%3B&Expires=1743051179&Policy=eyJTdGF0ZW1lbnQiOlt7IkNvbmRpdGlvbiI6eyJEYXRlTGVzc1RoYW4iOnsiQVdTOkVwb2NoVGltZSI6MTc0MzA1MTE3OX19LCJSZXNvdXJjZSI6Imh0dHBzOi8vY2RuLWxmcy11cy0xLmhmLmNvL3JlcG9zLzBiLzY2LzBiNjYyYWEyZDk5MzJjZmEyNzgwMjU2ZmU2YWM2NTM2ODBhYzg4YzMyN2NjZjNiZmYwNGQ1M2VmZGMxMjBlZGIvMTdiOTg3NTllNGI3OTUzY2JjZjYzZWM0OWJlN2VkYmM5Yjg2M2I1N2MyMDdkODRhNTJmNWQyZjViY2ZjZjZiND9yZXNwb25zZS1jb250ZW50LWRpc3Bvc2l0aW9uPSoifV19&Signature=ty66CwaWwcCtyIfwvwPpRWUD4QdNlvtYEl1NhxwGP6CpqsBG2KrV1hX08ijUG3WUACNNHIkrwXwKL4efQoDchE5UWytwK0T~ee1ZfgwDm3U1tWztT4jYQxw9uLkqUlsmmv8OIhzmzk3eVebY4KOtiJV5R50lHA4Tdzaw5ToAng~~kKDdpLi54n8HojfstoRtGhgLyBhvOE39Myol~pNEuYUAMt6pZSu4aXpKnzoqech47EqBOcl0hF6AsCKx33x8w2RBlvqCxx~6lyR-a-~deEpvMAUGuz9Up7ZXSIma4Yp5-hf4UOsErV7Vuf-1Jg-YIYXYWpRnzFG58BOH4fXpbQ__&Key-Pair-Id=K24J24Z295AEI9 HTTP/1.1\" 200 563832976\n"
     ]
    },
    {
     "data": {
      "application/vnd.jupyter.widget-view+json": {
       "model_id": "883e28f0f0e54297902f3885f118446f",
       "version_major": 2,
       "version_minor": 0
      },
      "text/plain": [
       "model-00002-of-00002.safetensors:   0%|          | 0.00/564M [00:00<?, ?B/s]"
      ]
     },
     "metadata": {},
     "output_type": "display_data"
    },
    {
     "name": "stderr",
     "output_type": "stream",
     "text": [
      "DEBUG:urllib3.connectionpool:https://huggingface.co:443 \"HEAD /microsoft/phi-2/resolve/ef382358ec9e382308935a992d908de099b64c23/model-00001-of-00002.safetensors HTTP/1.1\" 302 0\n",
      "DEBUG:filelock:Attempting to acquire lock 128329241476016 on /home/btoffoli/.cache/huggingface/hub/.locks/models--microsoft--phi-2/7fbcdefa72edf7527bf5da40535b57d9f5bd3d16829b94a9d25d2b457df62e84.lock\n",
      "DEBUG:filelock:Lock 128329241476016 acquired on /home/btoffoli/.cache/huggingface/hub/.locks/models--microsoft--phi-2/7fbcdefa72edf7527bf5da40535b57d9f5bd3d16829b94a9d25d2b457df62e84.lock\n",
      "DEBUG:urllib3.connectionpool:Starting new HTTPS connection (1): cdn-lfs-us-1.hf.co:443\n",
      "DEBUG:urllib3.connectionpool:https://cdn-lfs-us-1.hf.co:443 \"GET /repos/0b/66/0b662aa2d9932cfa2780256fe6ac653680ac88c327ccf3bff04d53efdc120edb/7fbcdefa72edf7527bf5da40535b57d9f5bd3d16829b94a9d25d2b457df62e84?response-content-disposition=inline%3B+filename*%3DUTF-8%27%27model-00001-of-00002.safetensors%3B+filename%3D%22model-00001-of-00002.safetensors%22%3B&Expires=1743051180&Policy=eyJTdGF0ZW1lbnQiOlt7IkNvbmRpdGlvbiI6eyJEYXRlTGVzc1RoYW4iOnsiQVdTOkVwb2NoVGltZSI6MTc0MzA1MTE4MH19LCJSZXNvdXJjZSI6Imh0dHBzOi8vY2RuLWxmcy11cy0xLmhmLmNvL3JlcG9zLzBiLzY2LzBiNjYyYWEyZDk5MzJjZmEyNzgwMjU2ZmU2YWM2NTM2ODBhYzg4YzMyN2NjZjNiZmYwNGQ1M2VmZGMxMjBlZGIvN2ZiY2RlZmE3MmVkZjc1MjdiZjVkYTQwNTM1YjU3ZDlmNWJkM2QxNjgyOWI5NGE5ZDI1ZDJiNDU3ZGY2MmU4ND9yZXNwb25zZS1jb250ZW50LWRpc3Bvc2l0aW9uPSoifV19&Signature=DkdB~fYNvEQbPiWlKEUFYCWMCFP0xc6Htrq3YIjzy6SHpiB3U7OtHWSTDDrPsTP54RIrW5feOlHI8ODW25u~e8~0b6m8LjD-4t-jJjmE92PvuH6sr4hxRveoAhdCjd9W6GO1EZ-IOFyrLhzZy-yYchjDlaOTP~Lq52ZVQm6cy4B4Ey---EwO~L8jocx7YRGKquOenw2SKf5RXNzErpn9yHamsJE8-2h4sUxhb5t-rPyuQKbR5r3D87dRa6BtwtRAKh~~CClpw6982JqlEGJDo7AwAZ2SbjYQET63Lo0CdH1X186MBAbfvNx~wLh8Thv7DP1ZWtbpzMLfpeQOcEwB6g__&Key-Pair-Id=K24J24Z295AEI9 HTTP/1.1\" 200 4995584424\n"
     ]
    },
    {
     "data": {
      "application/vnd.jupyter.widget-view+json": {
       "model_id": "7466d712ff2f4b4abff2fdeb93e96290",
       "version_major": 2,
       "version_minor": 0
      },
      "text/plain": [
       "model-00001-of-00002.safetensors:   0%|          | 0.00/5.00G [00:00<?, ?B/s]"
      ]
     },
     "metadata": {},
     "output_type": "display_data"
    },
    {
     "name": "stderr",
     "output_type": "stream",
     "text": [
      "DEBUG:filelock:Attempting to release lock 128329241705232 on /home/btoffoli/.cache/huggingface/hub/.locks/models--microsoft--phi-2/17b98759e4b7953cbcf63ec49be7edbc9b863b57c207d84a52f5d2f5bcfcf6b4.lock\n",
      "DEBUG:filelock:Lock 128329241705232 released on /home/btoffoli/.cache/huggingface/hub/.locks/models--microsoft--phi-2/17b98759e4b7953cbcf63ec49be7edbc9b863b57c207d84a52f5d2f5bcfcf6b4.lock\n",
      "DEBUG:filelock:Attempting to release lock 128329241476016 on /home/btoffoli/.cache/huggingface/hub/.locks/models--microsoft--phi-2/7fbcdefa72edf7527bf5da40535b57d9f5bd3d16829b94a9d25d2b457df62e84.lock\n",
      "DEBUG:filelock:Lock 128329241476016 released on /home/btoffoli/.cache/huggingface/hub/.locks/models--microsoft--phi-2/7fbcdefa72edf7527bf5da40535b57d9f5bd3d16829b94a9d25d2b457df62e84.lock\n",
      "INFO:accelerate.utils.modeling:We will use 90% of the memory on device 0 for storing the model, and 10% for the buffer to avoid OOM. You can set `max_memory` in to a higher value to use more memory (at your own risk).\n"
     ]
    },
    {
     "data": {
      "application/vnd.jupyter.widget-view+json": {
       "model_id": "1f1f5ccadc0b4e25ba64e7c4302878d4",
       "version_major": 2,
       "version_minor": 0
      },
      "text/plain": [
       "Loading checkpoint shards:   0%|          | 0/2 [00:00<?, ?it/s]"
      ]
     },
     "metadata": {},
     "output_type": "display_data"
    },
    {
     "name": "stderr",
     "output_type": "stream",
     "text": [
      "DEBUG:urllib3.connectionpool:https://huggingface.co:443 \"HEAD /microsoft/phi-2/resolve/main/generation_config.json HTTP/1.1\" 200 0\n",
      "DEBUG:filelock:Attempting to acquire lock 128329195044064 on /home/btoffoli/.cache/huggingface/hub/.locks/models--microsoft--phi-2/cf4ba0e4ebd236033b404876c972eac1be74b969.lock\n",
      "DEBUG:filelock:Lock 128329195044064 acquired on /home/btoffoli/.cache/huggingface/hub/.locks/models--microsoft--phi-2/cf4ba0e4ebd236033b404876c972eac1be74b969.lock\n",
      "DEBUG:urllib3.connectionpool:https://huggingface.co:443 \"GET /microsoft/phi-2/resolve/main/generation_config.json HTTP/1.1\" 200 124\n"
     ]
    },
    {
     "data": {
      "application/vnd.jupyter.widget-view+json": {
       "model_id": "09ff46c8bbfa451d85aa17fb89dde627",
       "version_major": 2,
       "version_minor": 0
      },
      "text/plain": [
       "generation_config.json:   0%|          | 0.00/124 [00:00<?, ?B/s]"
      ]
     },
     "metadata": {},
     "output_type": "display_data"
    },
    {
     "name": "stderr",
     "output_type": "stream",
     "text": [
      "DEBUG:filelock:Attempting to release lock 128329195044064 on /home/btoffoli/.cache/huggingface/hub/.locks/models--microsoft--phi-2/cf4ba0e4ebd236033b404876c972eac1be74b969.lock\n",
      "DEBUG:filelock:Lock 128329195044064 released on /home/btoffoli/.cache/huggingface/hub/.locks/models--microsoft--phi-2/cf4ba0e4ebd236033b404876c972eac1be74b969.lock\n",
      "DEBUG:urllib3.connectionpool:https://huggingface.co:443 \"HEAD /microsoft/phi-2/resolve/main/tokenizer_config.json HTTP/1.1\" 200 0\n",
      "DEBUG:filelock:Attempting to acquire lock 128329194022832 on /home/btoffoli/.cache/huggingface/hub/.locks/models--microsoft--phi-2/5145e0895f2fe7f1ccb3eb9da69ec74ec9c680db.lock\n",
      "DEBUG:filelock:Lock 128329194022832 acquired on /home/btoffoli/.cache/huggingface/hub/.locks/models--microsoft--phi-2/5145e0895f2fe7f1ccb3eb9da69ec74ec9c680db.lock\n",
      "DEBUG:urllib3.connectionpool:https://huggingface.co:443 \"GET /microsoft/phi-2/resolve/main/tokenizer_config.json HTTP/1.1\" 200 7339\n"
     ]
    },
    {
     "data": {
      "application/vnd.jupyter.widget-view+json": {
       "model_id": "6584ca5605f749d7b9f63a65626675c0",
       "version_major": 2,
       "version_minor": 0
      },
      "text/plain": [
       "tokenizer_config.json:   0%|          | 0.00/7.34k [00:00<?, ?B/s]"
      ]
     },
     "metadata": {},
     "output_type": "display_data"
    },
    {
     "name": "stderr",
     "output_type": "stream",
     "text": [
      "DEBUG:filelock:Attempting to release lock 128329194022832 on /home/btoffoli/.cache/huggingface/hub/.locks/models--microsoft--phi-2/5145e0895f2fe7f1ccb3eb9da69ec74ec9c680db.lock\n",
      "DEBUG:filelock:Lock 128329194022832 released on /home/btoffoli/.cache/huggingface/hub/.locks/models--microsoft--phi-2/5145e0895f2fe7f1ccb3eb9da69ec74ec9c680db.lock\n",
      "DEBUG:urllib3.connectionpool:https://huggingface.co:443 \"HEAD /microsoft/phi-2/resolve/main/vocab.json HTTP/1.1\" 200 0\n",
      "DEBUG:filelock:Attempting to acquire lock 128329241783808 on /home/btoffoli/.cache/huggingface/hub/.locks/models--microsoft--phi-2/84ef7fb594b5c0979e48bdeddb60a0adef33df0b.lock\n",
      "DEBUG:filelock:Lock 128329241783808 acquired on /home/btoffoli/.cache/huggingface/hub/.locks/models--microsoft--phi-2/84ef7fb594b5c0979e48bdeddb60a0adef33df0b.lock\n",
      "DEBUG:urllib3.connectionpool:https://huggingface.co:443 \"GET /microsoft/phi-2/resolve/main/vocab.json HTTP/1.1\" 200 798156\n"
     ]
    },
    {
     "data": {
      "application/vnd.jupyter.widget-view+json": {
       "model_id": "97c7aa8ae1c34d95961a82870ab4d206",
       "version_major": 2,
       "version_minor": 0
      },
      "text/plain": [
       "vocab.json:   0%|          | 0.00/798k [00:00<?, ?B/s]"
      ]
     },
     "metadata": {},
     "output_type": "display_data"
    },
    {
     "name": "stderr",
     "output_type": "stream",
     "text": [
      "DEBUG:filelock:Attempting to release lock 128329241783808 on /home/btoffoli/.cache/huggingface/hub/.locks/models--microsoft--phi-2/84ef7fb594b5c0979e48bdeddb60a0adef33df0b.lock\n",
      "DEBUG:filelock:Lock 128329241783808 released on /home/btoffoli/.cache/huggingface/hub/.locks/models--microsoft--phi-2/84ef7fb594b5c0979e48bdeddb60a0adef33df0b.lock\n",
      "DEBUG:urllib3.connectionpool:https://huggingface.co:443 \"HEAD /microsoft/phi-2/resolve/main/merges.txt HTTP/1.1\" 200 0\n",
      "DEBUG:filelock:Attempting to acquire lock 128329241783808 on /home/btoffoli/.cache/huggingface/hub/.locks/models--microsoft--phi-2/226b0752cac7789c48f0cb3ec53eda48b7be36cc.lock\n",
      "DEBUG:filelock:Lock 128329241783808 acquired on /home/btoffoli/.cache/huggingface/hub/.locks/models--microsoft--phi-2/226b0752cac7789c48f0cb3ec53eda48b7be36cc.lock\n",
      "DEBUG:urllib3.connectionpool:https://huggingface.co:443 \"GET /microsoft/phi-2/resolve/main/merges.txt HTTP/1.1\" 200 456318\n"
     ]
    },
    {
     "data": {
      "application/vnd.jupyter.widget-view+json": {
       "model_id": "8844a35ff82448adab03b2fe73277d7a",
       "version_major": 2,
       "version_minor": 0
      },
      "text/plain": [
       "merges.txt:   0%|          | 0.00/456k [00:00<?, ?B/s]"
      ]
     },
     "metadata": {},
     "output_type": "display_data"
    },
    {
     "name": "stderr",
     "output_type": "stream",
     "text": [
      "DEBUG:filelock:Attempting to release lock 128329241783808 on /home/btoffoli/.cache/huggingface/hub/.locks/models--microsoft--phi-2/226b0752cac7789c48f0cb3ec53eda48b7be36cc.lock\n",
      "DEBUG:filelock:Lock 128329241783808 released on /home/btoffoli/.cache/huggingface/hub/.locks/models--microsoft--phi-2/226b0752cac7789c48f0cb3ec53eda48b7be36cc.lock\n",
      "DEBUG:urllib3.connectionpool:https://huggingface.co:443 \"HEAD /microsoft/phi-2/resolve/main/tokenizer.json HTTP/1.1\" 200 0\n",
      "DEBUG:filelock:Attempting to acquire lock 128329195089488 on /home/btoffoli/.cache/huggingface/hub/.locks/models--microsoft--phi-2/c1148447551675ea739c440ee3e247df9f354d8f.lock\n",
      "DEBUG:filelock:Lock 128329195089488 acquired on /home/btoffoli/.cache/huggingface/hub/.locks/models--microsoft--phi-2/c1148447551675ea739c440ee3e247df9f354d8f.lock\n",
      "DEBUG:urllib3.connectionpool:https://huggingface.co:443 \"GET /microsoft/phi-2/resolve/main/tokenizer.json HTTP/1.1\" 200 2114924\n"
     ]
    },
    {
     "data": {
      "application/vnd.jupyter.widget-view+json": {
       "model_id": "0fc2f3dd48c24cc3ab0254bd8e3326e1",
       "version_major": 2,
       "version_minor": 0
      },
      "text/plain": [
       "tokenizer.json:   0%|          | 0.00/2.11M [00:00<?, ?B/s]"
      ]
     },
     "metadata": {},
     "output_type": "display_data"
    },
    {
     "name": "stderr",
     "output_type": "stream",
     "text": [
      "DEBUG:filelock:Attempting to release lock 128329195089488 on /home/btoffoli/.cache/huggingface/hub/.locks/models--microsoft--phi-2/c1148447551675ea739c440ee3e247df9f354d8f.lock\n",
      "DEBUG:filelock:Lock 128329195089488 released on /home/btoffoli/.cache/huggingface/hub/.locks/models--microsoft--phi-2/c1148447551675ea739c440ee3e247df9f354d8f.lock\n",
      "DEBUG:urllib3.connectionpool:https://huggingface.co:443 \"HEAD /microsoft/phi-2/resolve/main/added_tokens.json HTTP/1.1\" 200 0\n",
      "DEBUG:filelock:Attempting to acquire lock 128329195086416 on /home/btoffoli/.cache/huggingface/hub/.locks/models--microsoft--phi-2/7debb4784a7d53328d4d021fc46314bec4af3833.lock\n",
      "DEBUG:filelock:Lock 128329195086416 acquired on /home/btoffoli/.cache/huggingface/hub/.locks/models--microsoft--phi-2/7debb4784a7d53328d4d021fc46314bec4af3833.lock\n",
      "DEBUG:urllib3.connectionpool:https://huggingface.co:443 \"GET /microsoft/phi-2/resolve/main/added_tokens.json HTTP/1.1\" 200 1080\n"
     ]
    },
    {
     "data": {
      "application/vnd.jupyter.widget-view+json": {
       "model_id": "e159e5cb8ffd47dbbaae80cb628385b0",
       "version_major": 2,
       "version_minor": 0
      },
      "text/plain": [
       "added_tokens.json:   0%|          | 0.00/1.08k [00:00<?, ?B/s]"
      ]
     },
     "metadata": {},
     "output_type": "display_data"
    },
    {
     "name": "stderr",
     "output_type": "stream",
     "text": [
      "DEBUG:filelock:Attempting to release lock 128329195086416 on /home/btoffoli/.cache/huggingface/hub/.locks/models--microsoft--phi-2/7debb4784a7d53328d4d021fc46314bec4af3833.lock\n",
      "DEBUG:filelock:Lock 128329195086416 released on /home/btoffoli/.cache/huggingface/hub/.locks/models--microsoft--phi-2/7debb4784a7d53328d4d021fc46314bec4af3833.lock\n",
      "DEBUG:urllib3.connectionpool:https://huggingface.co:443 \"HEAD /microsoft/phi-2/resolve/main/special_tokens_map.json HTTP/1.1\" 200 0\n",
      "DEBUG:filelock:Attempting to acquire lock 128329195589456 on /home/btoffoli/.cache/huggingface/hub/.locks/models--microsoft--phi-2/0204ed10c186a4c7c68f55dff8f26087a45898d6.lock\n",
      "DEBUG:filelock:Lock 128329195589456 acquired on /home/btoffoli/.cache/huggingface/hub/.locks/models--microsoft--phi-2/0204ed10c186a4c7c68f55dff8f26087a45898d6.lock\n",
      "DEBUG:urllib3.connectionpool:https://huggingface.co:443 \"GET /microsoft/phi-2/resolve/main/special_tokens_map.json HTTP/1.1\" 200 99\n"
     ]
    },
    {
     "data": {
      "application/vnd.jupyter.widget-view+json": {
       "model_id": "f594745d97b04672b987ec5bca4448e9",
       "version_major": 2,
       "version_minor": 0
      },
      "text/plain": [
       "special_tokens_map.json:   0%|          | 0.00/99.0 [00:00<?, ?B/s]"
      ]
     },
     "metadata": {},
     "output_type": "display_data"
    },
    {
     "name": "stderr",
     "output_type": "stream",
     "text": [
      "DEBUG:filelock:Attempting to release lock 128329195589456 on /home/btoffoli/.cache/huggingface/hub/.locks/models--microsoft--phi-2/0204ed10c186a4c7c68f55dff8f26087a45898d6.lock\n",
      "DEBUG:filelock:Lock 128329195589456 released on /home/btoffoli/.cache/huggingface/hub/.locks/models--microsoft--phi-2/0204ed10c186a4c7c68f55dff8f26087a45898d6.lock\n",
      "DEBUG:urllib3.connectionpool:https://huggingface.co:443 \"HEAD /microsoft/phi-2/resolve/main/chat_template.jinja HTTP/1.1\" 404 0\n",
      "DEBUG:fine_tune:Reading datasets in batches: data_converted_txt\n",
      "DEBUG:fine_tune:filenames: ['occupancy-events-20240107.converted.txt', 'occupancy-events-20240108.converted.txt', 'occupancy-events-20240109.converted.txt', 'occupancy-events-20240110.converted.txt', 'occupancy-events-20240111.converted.txt', 'occupancy-events-20240112.converted.txt', 'occupancy-events-20240113.converted.txt', 'occupancy-events-20240114.converted.txt', 'occupancy-events-20240115.converted.txt', 'occupancy-events-20240116.converted.txt', 'occupancy-events-20240117.converted.txt', 'occupancy-events-20240118.converted.txt', 'occupancy-events-20240119.converted.txt', 'occupancy-events-20240120.converted.txt', 'occupancy-events-20240121.converted.txt', 'occupancy-events-20240122.converted.txt', 'occupancy-events-20240123.converted.txt', 'occupancy-events-20240124.converted.txt', 'occupancy-events-20240125.converted.txt', 'occupancy-events-20240126.converted.txt', 'occupancy-events-20240127.converted.txt', 'occupancy-events-20240128.converted.txt', 'occupancy-events-20240129.converted.txt', 'occupancy-events-20240130.converted.txt', 'occupancy-events-20240131.converted.txt', 'occupancy-events-20240201.converted.txt', 'occupancy-events-20240202.converted.txt', 'occupancy-events-20240203.converted.txt']\n",
      "DEBUG:urllib3.connectionpool:https://huggingface.co:443 \"HEAD /microsoft/phi-2/resolve/main/config.json HTTP/1.1\" 200 0\n"
     ]
    },
    {
     "name": "stdout",
     "output_type": "stream",
     "text": [
      "trainable params: 983,040 || all params: 2,780,666,880 || trainable%: 0.0354\n"
     ]
    },
    {
     "name": "stderr",
     "output_type": "stream",
     "text": [
      "DEBUG:urllib3.connectionpool:https://huggingface.co:443 \"HEAD /microsoft/phi-2/resolve/main/config.json HTTP/1.1\" 200 0\n"
     ]
    }
   ],
   "source": [
    "import os\n",
    "from fine_tune import BusOccupancyFineTune, convert_to_text\n",
    "import logging\n",
    "\n",
    "logging.basicConfig(level=logging.INFO)\n",
    "\n",
    "\n",
    "os.environ[\"PYTORCH_CUDA_ALLOC_CONF\"] = \"expandable_segments:True\"\n",
    "os.environ[\"CUDA_VISIBLE_DEVICES\"] = \"0\" \n",
    "\n",
    "boft_model = BusOccupancyFineTune(\n",
    "  mode='fine_tune',\n",
    "  model_name='microsoft/phi-2',\n",
    "  datasets_path='data_converted_txt',  \n",
    ")\n",
    "\n",
    "\n",
    "boft_model.train()\n",
    "\n",
    "\n"
   ]
  },
  {
   "cell_type": "markdown",
   "id": "e600e1fc",
   "metadata": {},
   "source": [
    "Trying to make prediction with the model still in memory that was just trained"
   ]
  },
  {
   "cell_type": "code",
   "execution_count": 3,
   "id": "2143e37d",
   "metadata": {},
   "outputs": [
    {
     "name": "stderr",
     "output_type": "stream",
     "text": [
      "DEBUG:fine_tune:Register(type): <class 'dict'>\n",
      "DEBUG:fine_tune:Register: {'occupancyLevel': 0, 'timestamp': '2024-01-07T03:28:17.000Z', 'tripId': 83560365, 'tripScheduledTime': '2024-01-07T03:10:00.000Z', 'tripStartTime': '2024-01-07T03:11:11.000Z', 'tripEndTime': '2024-01-07T04:35:09.000Z', 'busStopLocation': 7002, 'routeTotalLength': 39598, 'busStopId': 15, 'tripRouteId': 3736, 'weatherTemperature': 24.4, 'weatherPrecipitation': 0.2}\n",
      "Setting `pad_token_id` to `eos_token_id`:50256 for open-end generation.\n"
     ]
    },
    {
     "name": "stdout",
     "output_type": "stream",
     "text": [
      "Below is an instruction that describes a task. Write a response that appropriately completes the request.\n",
      "\n",
      "### Instruction:\n",
      "Saturday, light rain and warm, route 3736, scheduled at 00:10 and started at 00:11. The occupancy level at bust stop 15 is:\n",
      "\n",
      "### Response:\n",
      "\n"
     ]
    },
    {
     "name": "stderr",
     "output_type": "stream",
     "text": [
      "DEBUG:fine_tune:Register(type): <class 'dict'>\n",
      "DEBUG:fine_tune:Register: {'occupancyLevel': 0, 'timestamp': '2024-01-07T03:28:17.000Z', 'tripId': 83560365, 'tripScheduledTime': '2024-01-07T03:10:00.000Z', 'tripStartTime': '2024-01-07T03:11:11.000Z', 'tripEndTime': '2024-01-07T04:35:09.000Z', 'busStopLocation': 7249, 'routeTotalLength': 39598, 'busStopId': 16, 'tripRouteId': 3736, 'weatherTemperature': 24.4, 'weatherPrecipitation': 0.2}\n",
      "Setting `pad_token_id` to `eos_token_id`:50256 for open-end generation.\n"
     ]
    },
    {
     "name": "stdout",
     "output_type": "stream",
     "text": [
      "**** resp was: \n",
      "\n",
      "The occupancy level at bust stop 15 is:\n",
      "\n",
      "\n",
      "\n",
      "\n",
      "\n",
      "\n",
      "Below is an instruction that describes a task. Write a response that appropriately completes the request.\n",
      "\n",
      "### Instruction:\n",
      "Saturday, light rain and warm, route 3736, scheduled at 00:10 and started at 00:11. The occupancy level at bust stop 16 is:\n",
      "\n",
      "### Response:\n",
      "\n"
     ]
    },
    {
     "name": "stderr",
     "output_type": "stream",
     "text": [
      "DEBUG:fine_tune:Register(type): <class 'dict'>\n",
      "DEBUG:fine_tune:Register: {'occupancyLevel': 0, 'timestamp': '2024-01-07T03:29:04.000Z', 'tripId': 83560365, 'tripScheduledTime': '2024-01-07T03:10:00.000Z', 'tripStartTime': '2024-01-07T03:11:11.000Z', 'tripEndTime': '2024-01-07T04:35:09.000Z', 'busStopLocation': 7648, 'routeTotalLength': 39598, 'busStopId': 17, 'tripRouteId': 3736, 'weatherTemperature': 24.4, 'weatherPrecipitation': 0.2}\n",
      "Setting `pad_token_id` to `eos_token_id`:50256 for open-end generation.\n"
     ]
    },
    {
     "name": "stdout",
     "output_type": "stream",
     "text": [
      "**** resp was: \n",
      "\n",
      "The occupancy level at bust stop 16 is:\n",
      "\n",
      "\n",
      "\n",
      "\n",
      "\n",
      "\n",
      "Below is an instruction that describes a task. Write a response that appropriately completes the request.\n",
      "\n",
      "### Instruction:\n",
      "Saturday, light rain and warm, route 3736, scheduled at 00:10 and started at 00:11. The occupancy level at bust stop 17 is:\n",
      "\n",
      "### Response:\n",
      "\n"
     ]
    },
    {
     "name": "stderr",
     "output_type": "stream",
     "text": [
      "DEBUG:fine_tune:Register(type): <class 'dict'>\n",
      "DEBUG:fine_tune:Register: {'occupancyLevel': 1, 'timestamp': '2024-01-07T03:28:47.000Z', 'tripId': 83562911, 'tripScheduledTime': '2024-01-07T03:20:00.000Z', 'tripStartTime': '2024-01-07T03:25:11.000Z', 'tripEndTime': '2024-01-07T04:17:36.000Z', 'busStopLocation': 2091, 'routeTotalLength': 30722, 'busStopId': 6450, 'tripRouteId': 3018, 'weatherTemperature': 24.4, 'weatherPrecipitation': 0.2}\n",
      "Setting `pad_token_id` to `eos_token_id`:50256 for open-end generation.\n"
     ]
    },
    {
     "name": "stdout",
     "output_type": "stream",
     "text": [
      "**** resp was: \n",
      "\n",
      "The occupancy level at bust stop 17 is:\n",
      "\n",
      "\n",
      "\n",
      "\n",
      "\n",
      "\n",
      "Below is an instruction that describes a task. Write a response that appropriately completes the request.\n",
      "\n",
      "### Instruction:\n",
      "Saturday, light rain and warm, route 3018, scheduled at 00:20 and started at 00:25. The occupancy level at bust stop 6450 is:\n",
      "\n",
      "### Response:\n",
      "\n"
     ]
    },
    {
     "name": "stderr",
     "output_type": "stream",
     "text": [
      "DEBUG:fine_tune:Register(type): <class 'dict'>\n",
      "DEBUG:fine_tune:Register: {'occupancyLevel': 2, 'timestamp': '2024-01-07T03:29:42.000Z', 'tripId': 83562911, 'tripScheduledTime': '2024-01-07T03:20:00.000Z', 'tripStartTime': '2024-01-07T03:25:11.000Z', 'tripEndTime': '2024-01-07T04:17:36.000Z', 'busStopLocation': 2296, 'routeTotalLength': 30722, 'busStopId': 183, 'tripRouteId': 3018, 'weatherTemperature': 24.4, 'weatherPrecipitation': 0.2}\n",
      "Setting `pad_token_id` to `eos_token_id`:50256 for open-end generation.\n"
     ]
    },
    {
     "name": "stdout",
     "output_type": "stream",
     "text": [
      "**** resp was: \n",
      "\n",
      "The occupancy level at bust stop 6450 is:\n",
      "\n",
      "\n",
      "\n",
      "\n",
      "\n",
      "\n",
      "Below is an instruction that describes a task. Write a response that appropriately completes the request.\n",
      "\n",
      "### Instruction:\n",
      "Saturday, light rain and warm, route 3018, scheduled at 00:20 and started at 00:25. The occupancy level at bust stop 183 is:\n",
      "\n",
      "### Response:\n",
      "\n"
     ]
    },
    {
     "name": "stderr",
     "output_type": "stream",
     "text": [
      "DEBUG:fine_tune:Register(type): <class 'dict'>\n",
      "DEBUG:fine_tune:Register: {'occupancyLevel': 0, 'timestamp': '2024-02-02T03:03:04.000Z', 'tripId': 84018657, 'tripScheduledTime': '2024-02-02T03:01:00.000Z', 'tripStartTime': '2024-02-02T03:01:38.000Z', 'tripEndTime': '2024-02-02T03:38:24.000Z', 'busStopLocation': 916, 'routeTotalLength': 16614, 'busStopId': 58, 'tripRouteId': 2320, 'weatherTemperature': 25, 'weatherPrecipitation': 0}\n",
      "Setting `pad_token_id` to `eos_token_id`:50256 for open-end generation.\n"
     ]
    },
    {
     "name": "stdout",
     "output_type": "stream",
     "text": [
      "**** resp was: \n",
      "\n",
      "The occupancy level at bust stop 183 is:\n",
      "\n",
      "\n",
      "\n",
      "\n",
      "\n",
      "\n",
      "Below is an instruction that describes a task. Write a response that appropriately completes the request.\n",
      "\n",
      "### Instruction:\n",
      "Thursday, no rain and warm, route 2320, scheduled at 00:01 and started at 00:01. The occupancy level at bust stop 58 is:\n",
      "\n",
      "### Response:\n",
      "\n"
     ]
    },
    {
     "name": "stderr",
     "output_type": "stream",
     "text": [
      "DEBUG:fine_tune:Register(type): <class 'dict'>\n",
      "DEBUG:fine_tune:Register: {'occupancyLevel': 0, 'timestamp': '2024-02-02T03:03:04.000Z', 'tripId': 84018657, 'tripScheduledTime': '2024-02-02T03:01:00.000Z', 'tripStartTime': '2024-02-02T03:01:38.000Z', 'tripEndTime': '2024-02-02T03:38:24.000Z', 'busStopLocation': 1189, 'routeTotalLength': 16614, 'busStopId': 59, 'tripRouteId': 2320, 'weatherTemperature': 25, 'weatherPrecipitation': 0}\n",
      "Setting `pad_token_id` to `eos_token_id`:50256 for open-end generation.\n"
     ]
    },
    {
     "name": "stdout",
     "output_type": "stream",
     "text": [
      "**** resp was: \n",
      "\n",
      "The occupancy level at bust stop 58 is 0.\n",
      "\n",
      "\n",
      "\n",
      "\n",
      "\n",
      "\n",
      "Below is an instruction that describes a task. Write a response that appropriately completes the request.\n",
      "\n",
      "### Instruction:\n",
      "Thursday, no rain and warm, route 2320, scheduled at 00:01 and started at 00:01. The occupancy level at bust stop 59 is:\n",
      "\n",
      "### Response:\n",
      "\n"
     ]
    },
    {
     "name": "stderr",
     "output_type": "stream",
     "text": [
      "DEBUG:fine_tune:Register(type): <class 'dict'>\n",
      "DEBUG:fine_tune:Register: {'occupancyLevel': 0, 'timestamp': '2024-02-02T03:03:04.000Z', 'tripId': 84018657, 'tripScheduledTime': '2024-02-02T03:01:00.000Z', 'tripStartTime': '2024-02-02T03:01:38.000Z', 'tripEndTime': '2024-02-02T03:38:24.000Z', 'busStopLocation': 1464, 'routeTotalLength': 16614, 'busStopId': 60, 'tripRouteId': 2320, 'weatherTemperature': 25, 'weatherPrecipitation': 0}\n",
      "Setting `pad_token_id` to `eos_token_id`:50256 for open-end generation.\n"
     ]
    },
    {
     "name": "stdout",
     "output_type": "stream",
     "text": [
      "**** resp was: \n",
      "\n",
      "The occupancy level at bust stop 59 is 0.\n",
      "\n",
      "\n",
      "\n",
      "\n",
      "\n",
      "\n",
      "Below is an instruction that describes a task. Write a response that appropriately completes the request.\n",
      "\n",
      "### Instruction:\n",
      "Thursday, no rain and warm, route 2320, scheduled at 00:01 and started at 00:01. The occupancy level at bust stop 60 is:\n",
      "\n",
      "### Response:\n",
      "\n"
     ]
    },
    {
     "name": "stderr",
     "output_type": "stream",
     "text": [
      "DEBUG:fine_tune:Register(type): <class 'dict'>\n",
      "DEBUG:fine_tune:Register: {'occupancyLevel': 0, 'timestamp': '2024-02-02T03:03:04.000Z', 'tripId': 84018657, 'tripScheduledTime': '2024-02-02T03:01:00.000Z', 'tripStartTime': '2024-02-02T03:01:38.000Z', 'tripEndTime': '2024-02-02T03:38:24.000Z', 'busStopLocation': 1788, 'routeTotalLength': 16614, 'busStopId': 61, 'tripRouteId': 2320, 'weatherTemperature': 25, 'weatherPrecipitation': 0}\n",
      "Setting `pad_token_id` to `eos_token_id`:50256 for open-end generation.\n"
     ]
    },
    {
     "name": "stdout",
     "output_type": "stream",
     "text": [
      "**** resp was: \n",
      "\n",
      "The occupancy level at bust stop 60 is 0.\n",
      "\n",
      "\n",
      "\n",
      "\n",
      "\n",
      "\n",
      "Below is an instruction that describes a task. Write a response that appropriately completes the request.\n",
      "\n",
      "### Instruction:\n",
      "Thursday, no rain and warm, route 2320, scheduled at 00:01 and started at 00:01. The occupancy level at bust stop 61 is:\n",
      "\n",
      "### Response:\n",
      "\n"
     ]
    },
    {
     "name": "stderr",
     "output_type": "stream",
     "text": [
      "DEBUG:fine_tune:Register(type): <class 'dict'>\n",
      "DEBUG:fine_tune:Register: {'occupancyLevel': 2, 'timestamp': '2024-02-02T03:30:20.000Z', 'tripId': 84012647, 'tripScheduledTime': '2024-02-02T03:20:00.000Z', 'tripStartTime': '2024-02-02T03:17:48.000Z', 'tripEndTime': '2024-02-02T04:19:15.000Z', 'busStopLocation': 6512, 'routeTotalLength': 32854, 'busStopId': 676, 'tripRouteId': 4206, 'weatherTemperature': 24.7, 'weatherPrecipitation': 0}\n",
      "Setting `pad_token_id` to `eos_token_id`:50256 for open-end generation.\n"
     ]
    },
    {
     "name": "stdout",
     "output_type": "stream",
     "text": [
      "**** resp was: \n",
      "\n",
      "The occupancy level at bust stop 61 is 0.\n",
      "\n",
      "\n",
      "\n",
      "\n",
      "\n",
      "\n",
      "Below is an instruction that describes a task. Write a response that appropriately completes the request.\n",
      "\n",
      "### Instruction:\n",
      "Thursday, no rain and warm, route 4206, scheduled at 00:20 and started at 00:17. The occupancy level at bust stop 676 is:\n",
      "\n",
      "### Response:\n",
      "\n"
     ]
    },
    {
     "name": "stderr",
     "output_type": "stream",
     "text": [
      "DEBUG:fine_tune:Register(type): <class 'dict'>\n",
      "DEBUG:fine_tune:Register: {'occupancyLevel': 2, 'timestamp': '2024-02-02T03:30:20.000Z', 'tripId': 84012647, 'tripScheduledTime': '2024-02-02T03:20:00.000Z', 'tripStartTime': '2024-02-02T03:17:48.000Z', 'tripEndTime': '2024-02-02T04:19:15.000Z', 'busStopLocation': 6666, 'routeTotalLength': 32854, 'busStopId': 678, 'tripRouteId': 4206, 'weatherTemperature': 24.7, 'weatherPrecipitation': 0}\n",
      "Setting `pad_token_id` to `eos_token_id`:50256 for open-end generation.\n"
     ]
    },
    {
     "name": "stdout",
     "output_type": "stream",
     "text": [
      "**** resp was: \n",
      "\n",
      "The occupancy level at bust stop 676 is not available.\n",
      "\n",
      "\n",
      "\n",
      "\n",
      "\n",
      "\n",
      "Below is an instruction that describes a task. Write a response that appropriately completes the request.\n",
      "\n",
      "### Instruction:\n",
      "Thursday, no rain and warm, route 4206, scheduled at 00:20 and started at 00:17. The occupancy level at bust stop 678 is:\n",
      "\n",
      "### Response:\n",
      "\n",
      "**** resp was: \n",
      "\n",
      "The occupancy level at bust stop 678 is not available.\n",
      "\n",
      "\n",
      "\n",
      "\n",
      "\n",
      "\n"
     ]
    }
   ],
   "source": [
    "from fine_tune import convert_to_text\n",
    "\n",
    "questions = [\n",
    "  {\"occupancyLevel\":0,\"timestamp\":\"2024-01-07T03:28:17.000Z\",\"tripId\":83560365,\"tripScheduledTime\":\"2024-01-07T03:10:00.000Z\",\"tripStartTime\":\"2024-01-07T03:11:11.000Z\",\"tripEndTime\":\"2024-01-07T04:35:09.000Z\",\"busStopLocation\":7002,\"routeTotalLength\":39598,\"busStopId\":15,\"tripRouteId\":3736,\"weatherTemperature\":24.4,\"weatherPrecipitation\":0.2},\n",
    "{\"occupancyLevel\":0,\"timestamp\":\"2024-01-07T03:28:17.000Z\",\"tripId\":83560365,\"tripScheduledTime\":\"2024-01-07T03:10:00.000Z\",\"tripStartTime\":\"2024-01-07T03:11:11.000Z\",\"tripEndTime\":\"2024-01-07T04:35:09.000Z\",\"busStopLocation\":7249,\"routeTotalLength\":39598,\"busStopId\":16,\"tripRouteId\":3736,\"weatherTemperature\":24.4,\"weatherPrecipitation\":0.2},\n",
    "{\"occupancyLevel\":0,\"timestamp\":\"2024-01-07T03:29:04.000Z\",\"tripId\":83560365,\"tripScheduledTime\":\"2024-01-07T03:10:00.000Z\",\"tripStartTime\":\"2024-01-07T03:11:11.000Z\",\"tripEndTime\":\"2024-01-07T04:35:09.000Z\",\"busStopLocation\":7648,\"routeTotalLength\":39598,\"busStopId\":17,\"tripRouteId\":3736,\"weatherTemperature\":24.4,\"weatherPrecipitation\":0.2},\n",
    "{\"occupancyLevel\":1,\"timestamp\":\"2024-01-07T03:28:47.000Z\",\"tripId\":83562911,\"tripScheduledTime\":\"2024-01-07T03:20:00.000Z\",\"tripStartTime\":\"2024-01-07T03:25:11.000Z\",\"tripEndTime\":\"2024-01-07T04:17:36.000Z\",\"busStopLocation\":2091,\"routeTotalLength\":30722,\"busStopId\":6450,\"tripRouteId\":3018,\"weatherTemperature\":24.4,\"weatherPrecipitation\":0.2},\n",
    "{\"occupancyLevel\":2,\"timestamp\":\"2024-01-07T03:29:42.000Z\",\"tripId\":83562911,\"tripScheduledTime\":\"2024-01-07T03:20:00.000Z\",\"tripStartTime\":\"2024-01-07T03:25:11.000Z\",\"tripEndTime\":\"2024-01-07T04:17:36.000Z\",\"busStopLocation\":2296,\"routeTotalLength\":30722,\"busStopId\":183,\"tripRouteId\":3018,\"weatherTemperature\":24.4,\"weatherPrecipitation\":0.2},\n",
    "    {\"occupancyLevel\":0,\"timestamp\":\"2024-02-02T03:03:04.000Z\",\"tripId\":84018657,\"tripScheduledTime\":\"2024-02-02T03:01:00.000Z\",\"tripStartTime\":\"2024-02-02T03:01:38.000Z\",\"tripEndTime\":\"2024-02-02T03:38:24.000Z\",\"busStopLocation\":916,\"routeTotalLength\":16614,\"busStopId\":58,\"tripRouteId\":2320,\"weatherTemperature\":25,\"weatherPrecipitation\":0},\n",
    "{\"occupancyLevel\":0,\"timestamp\":\"2024-02-02T03:03:04.000Z\",\"tripId\":84018657,\"tripScheduledTime\":\"2024-02-02T03:01:00.000Z\",\"tripStartTime\":\"2024-02-02T03:01:38.000Z\",\"tripEndTime\":\"2024-02-02T03:38:24.000Z\",\"busStopLocation\":1189,\"routeTotalLength\":16614,\"busStopId\":59,\"tripRouteId\":2320,\"weatherTemperature\":25,\"weatherPrecipitation\":0},\n",
    "{\"occupancyLevel\":0,\"timestamp\":\"2024-02-02T03:03:04.000Z\",\"tripId\":84018657,\"tripScheduledTime\":\"2024-02-02T03:01:00.000Z\",\"tripStartTime\":\"2024-02-02T03:01:38.000Z\",\"tripEndTime\":\"2024-02-02T03:38:24.000Z\",\"busStopLocation\":1464,\"routeTotalLength\":16614,\"busStopId\":60,\"tripRouteId\":2320,\"weatherTemperature\":25,\"weatherPrecipitation\":0},\n",
    "{\"occupancyLevel\":0,\"timestamp\":\"2024-02-02T03:03:04.000Z\",\"tripId\":84018657,\"tripScheduledTime\":\"2024-02-02T03:01:00.000Z\",\"tripStartTime\":\"2024-02-02T03:01:38.000Z\",\"tripEndTime\":\"2024-02-02T03:38:24.000Z\",\"busStopLocation\":1788,\"routeTotalLength\":16614,\"busStopId\":61,\"tripRouteId\":2320,\"weatherTemperature\":25,\"weatherPrecipitation\":0},\n",
    "    {\"occupancyLevel\":2,\"timestamp\":\"2024-02-02T03:30:20.000Z\",\"tripId\":84012647,\"tripScheduledTime\":\"2024-02-02T03:20:00.000Z\",\"tripStartTime\":\"2024-02-02T03:17:48.000Z\",\"tripEndTime\":\"2024-02-02T04:19:15.000Z\",\"busStopLocation\":6512,\"routeTotalLength\":32854,\"busStopId\":676,\"tripRouteId\":4206,\"weatherTemperature\":24.7,\"weatherPrecipitation\":0},\n",
    "{\"occupancyLevel\":2,\"timestamp\":\"2024-02-02T03:30:20.000Z\",\"tripId\":84012647,\"tripScheduledTime\":\"2024-02-02T03:20:00.000Z\",\"tripStartTime\":\"2024-02-02T03:17:48.000Z\",\"tripEndTime\":\"2024-02-02T04:19:15.000Z\",\"busStopLocation\":6666,\"routeTotalLength\":32854,\"busStopId\":678,\"tripRouteId\":4206,\"weatherTemperature\":24.7,\"weatherPrecipitation\":0},\n",
    "    \n",
    "    \n",
    "]\n",
    "\n",
    "for i in questions:\n",
    "    \n",
    "  q = convert_to_text(i).strip()\n",
    "  question = q[:-1]\n",
    "  print(question)\n",
    "  # right_resp = q[-1]\n",
    "  # # print(right_resp) \n",
    "  resp = boft_model.predict(question)\n",
    "  idx_resp = resp.find('### Response:')  \n",
    "    \n",
    "  print(f\"**** resp was: \\n{resp[idx_resp+13:]}\")\n",
    "  # print(f\"**** but correct would be {q}\")\n",
    "  print(\"\\n\\n\\n\\n\")"
   ]
  },
  {
   "cell_type": "code",
   "execution_count": null,
   "id": "3df3daea-589a-4a21-bace-cb4a715cd435",
   "metadata": {},
   "outputs": [],
   "source": []
  }
 ],
 "metadata": {
  "kernelspec": {
   "display_name": "Python 3 (ipykernel)",
   "language": "python",
   "name": "python3"
  },
  "language_info": {
   "codemirror_mode": {
    "name": "ipython",
    "version": 3
   },
   "file_extension": ".py",
   "mimetype": "text/x-python",
   "name": "python",
   "nbconvert_exporter": "python",
   "pygments_lexer": "ipython3",
   "version": "3.13.2"
  }
 },
 "nbformat": 4,
 "nbformat_minor": 5
}
