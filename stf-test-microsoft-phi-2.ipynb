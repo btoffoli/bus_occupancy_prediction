{
 "cells": [
  {
   "cell_type": "markdown",
   "id": "006f15ac",
   "metadata": {},
   "source": [
    "Importando bibliotecas"
   ]
  },
  {
   "cell_type": "markdown",
   "id": "511bc102",
   "metadata": {},
   "source": [
    "Iniciando modelo Microsoft PHI 2"
   ]
  },
  {
   "cell_type": "code",
   "execution_count": 4,
   "id": "e95f542d-173e-4575-a23a-4df666e96f60",
   "metadata": {},
   "outputs": [
    {
     "name": "stderr",
     "output_type": "stream",
     "text": [
      "INFO:fine_tune:self.model_name: microsoft/phi-2\n",
      "DEBUG:urllib3.connectionpool:Resetting dropped connection: huggingface.co\n",
      "DEBUG:urllib3.connectionpool:https://huggingface.co:443 \"HEAD /microsoft/phi-2/resolve/main/config.json HTTP/1.1\" 200 0\n",
      "INFO:accelerate.utils.modeling:We will use 90% of the memory on device 0 for storing the model, and 10% for the buffer to avoid OOM. You can set `max_memory` in to a higher value to use more memory (at your own risk).\n"
     ]
    },
    {
     "data": {
      "application/vnd.jupyter.widget-view+json": {
       "model_id": "410ee4e1d22e406e91263514a83eba80",
       "version_major": 2,
       "version_minor": 0
      },
      "text/plain": [
       "Loading checkpoint shards:   0%|          | 0/2 [00:00<?, ?it/s]"
      ]
     },
     "metadata": {},
     "output_type": "display_data"
    },
    {
     "name": "stderr",
     "output_type": "stream",
     "text": [
      "DEBUG:urllib3.connectionpool:https://huggingface.co:443 \"HEAD /microsoft/phi-2/resolve/main/generation_config.json HTTP/1.1\" 200 0\n",
      "DEBUG:urllib3.connectionpool:https://huggingface.co:443 \"HEAD /microsoft/phi-2/resolve/main/tokenizer_config.json HTTP/1.1\" 200 0\n",
      "DEBUG:fine_tune:Reading datasets in batches: data_converted_txt\n",
      "DEBUG:fine_tune:filenames: ['occupancy-events-20240107.converted.txt', 'occupancy-events-20240108.converted.txt', 'occupancy-events-20240109.converted.txt', 'occupancy-events-20240301.converted.txt', 'occupancy-events-20240302.converted.txt', 'occupancy-events-20240303.converted.txt', 'occupancy-events-20240501.converted.txt', 'occupancy-events-20240502.converted.txt', 'occupancy-events-20240701.converted.txt']\n"
     ]
    },
    {
     "name": "stdout",
     "output_type": "stream",
     "text": [
      "trainable params: 983,040 || all params: 2,780,666,880 || trainable%: 0.0354\n"
     ]
    },
    {
     "name": "stderr",
     "output_type": "stream",
     "text": [
      "DEBUG:urllib3.connectionpool:https://huggingface.co:443 \"HEAD /microsoft/phi-2/resolve/main/config.json HTTP/1.1\" 200 0\n",
      "DEBUG:urllib3.connectionpool:https://huggingface.co:443 \"HEAD /microsoft/phi-2/resolve/main/config.json HTTP/1.1\" 200 0\n"
     ]
    }
   ],
   "source": [
    "import os\n",
    "from fine_tune import BusOccupancyFineTune, convert_to_text\n",
    "import logging\n",
    "\n",
    "logging.basicConfig(level=logging.INFO)\n",
    "\n",
    "\n",
    "os.environ[\"PYTORCH_CUDA_ALLOC_CONF\"] = \"expandable_segments:True\"\n",
    "os.environ[\"CUDA_VISIBLE_DEVICES\"] = \"0\" \n",
    "\n",
    "boft_model = BusOccupancyFineTune(\n",
    "  mode='fine_tune',\n",
    "  model_name='microsoft/phi-2',\n",
    "  datasets_path='data_converted_txt',  \n",
    ")\n",
    "\n",
    "\n",
    "boft_model.train()\n",
    "\n",
    "\n"
   ]
  },
  {
   "cell_type": "markdown",
   "id": "e600e1fc",
   "metadata": {},
   "source": [
    "Trying to make prediction with the model still in memory that was just trained"
   ]
  },
  {
   "cell_type": "code",
   "execution_count": 8,
   "id": "2143e37d",
   "metadata": {},
   "outputs": [
    {
     "name": "stderr",
     "output_type": "stream",
     "text": [
      "DEBUG:fine_tune:Register(type): <class 'dict'>\n",
      "DEBUG:fine_tune:Register: {'occupancyLevel': 0, 'timestamp': '2024-03-03T03:17:09.000Z', 'tripId': 84514167, 'tripScheduledTime': '2024-03-03T03:01:00.000Z', 'tripStartTime': '2024-03-03T03:04:10.000Z', 'tripEndTime': '2024-03-03T03:58:36.000Z', 'busStopLocation': 4711, 'routeTotalLength': 21027, 'busStopId': 1446, 'tripRouteId': 1865, 'weatherTemperature': 24.2, 'weatherPrecipitation': 0}\n",
      "Setting `pad_token_id` to `eos_token_id`:50256 for open-end generation.\n"
     ]
    },
    {
     "name": "stdout",
     "output_type": "stream",
     "text": [
      "<human>: Saturday, no rain and warm, route 1865, scheduled at 00:01 and started at 00:04. The occupancy level at bust stop 1446 is:\n",
      "<bot>: \n"
     ]
    },
    {
     "name": "stderr",
     "output_type": "stream",
     "text": [
      "DEBUG:fine_tune:Register(type): <class 'dict'>\n",
      "DEBUG:fine_tune:Register: {'occupancyLevel': 1, 'timestamp': '2024-03-03T03:09:31.000Z', 'tripId': 84514167, 'tripScheduledTime': '2024-03-03T03:01:00.000Z', 'tripStartTime': '2024-03-03T03:04:10.000Z', 'tripEndTime': '2024-03-03T03:58:36.000Z', 'busStopLocation': 2965, 'routeTotalLength': 21027, 'busStopId': 185, 'tripRouteId': 1865, 'weatherTemperature': 24.2, 'weatherPrecipitation': 0}\n",
      "Setting `pad_token_id` to `eos_token_id`:50256 for open-end generation.\n"
     ]
    },
    {
     "name": "stdout",
     "output_type": "stream",
     "text": [
      "**** resp was <human>: Saturday, no rain and warm, route 1865, scheduled at 00:01 and started at 00:04. The occupancy level at bust stop 1446 is:\n",
      "<bot>: \n",
      "<human>: \n",
      "**** but correct would be <human>: Saturday, no rain and warm, route 1865, scheduled at 00:01 and started at 00:04. The occupancy level at bust stop 1446 is:\n",
      "<bot>: 0\n",
      "<human>: Saturday, no rain and warm, route 1865, scheduled at 00:01 and started at 00:04. The occupancy level at bust stop 185 is:\n",
      "<bot>: \n"
     ]
    },
    {
     "name": "stderr",
     "output_type": "stream",
     "text": [
      "DEBUG:fine_tune:Register(type): <class 'dict'>\n",
      "DEBUG:fine_tune:Register: {'occupancyLevel': 2, 'timestamp': '2024-03-03T04:21:50.000Z', 'tripId': 84513157, 'tripScheduledTime': '2024-03-03T03:50:00.000Z', 'tripStartTime': '2024-03-03T03:54:01.000Z', 'tripEndTime': '2024-03-03T04:58:23.000Z', 'busStopLocation': 11716, 'routeTotalLength': 27426, 'busStopId': 755, 'tripRouteId': 4040, 'weatherTemperature': 23.4, 'weatherPrecipitation': 0}\n",
      "Setting `pad_token_id` to `eos_token_id`:50256 for open-end generation.\n"
     ]
    },
    {
     "name": "stdout",
     "output_type": "stream",
     "text": [
      "**** resp was <human>: Saturday, no rain and warm, route 1865, scheduled at 00:01 and started at 00:04. The occupancy level at bust stop 185 is:\n",
      "<bot>: \n",
      "<human>: \n",
      "**** but correct would be <human>: Saturday, no rain and warm, route 1865, scheduled at 00:01 and started at 00:04. The occupancy level at bust stop 185 is:\n",
      "<bot>: 1\n",
      "<human>: Saturday, no rain and warm, route 4040, scheduled at 00:50 and started at 00:54. The occupancy level at bust stop 755 is:\n",
      "<bot>: \n",
      "**** resp was <human>: Saturday, no rain and warm, route 4040, scheduled at 00:50 and started at 00:54. The occupancy level at bust stop 755 is:\n",
      "<bot>: \n",
      "<human>: \n",
      "**** but correct would be <human>: Saturday, no rain and warm, route 4040, scheduled at 00:50 and started at 00:54. The occupancy level at bust stop 755 is:\n",
      "<bot>: 2\n"
     ]
    }
   ],
   "source": [
    "questions = [\n",
    "  {\"occupancyLevel\":0,\"timestamp\":\"2024-03-03T03:17:09.000Z\",\"tripId\":84514167,\"tripScheduledTime\":\"2024-03-03T03:01:00.000Z\",\"tripStartTime\":\"2024-03-03T03:04:10.000Z\",\"tripEndTime\":\"2024-03-03T03:58:36.000Z\",\"busStopLocation\":4711,\"routeTotalLength\":21027,\"busStopId\":1446,\"tripRouteId\":1865,\"weatherTemperature\":24.2,\"weatherPrecipitation\":0},\n",
    "  {\"occupancyLevel\":1,\"timestamp\":\"2024-03-03T03:09:31.000Z\",\"tripId\":84514167,\"tripScheduledTime\":\"2024-03-03T03:01:00.000Z\",\"tripStartTime\":\"2024-03-03T03:04:10.000Z\",\"tripEndTime\":\"2024-03-03T03:58:36.000Z\",\"busStopLocation\":2965,\"routeTotalLength\":21027,\"busStopId\":185,\"tripRouteId\":1865,\"weatherTemperature\":24.2,\"weatherPrecipitation\":0},\n",
    "  {\"occupancyLevel\":2,\"timestamp\":\"2024-03-03T04:21:50.000Z\",\"tripId\":84513157,\"tripScheduledTime\":\"2024-03-03T03:50:00.000Z\",\"tripStartTime\":\"2024-03-03T03:54:01.000Z\",\"tripEndTime\":\"2024-03-03T04:58:23.000Z\",\"busStopLocation\":11716,\"routeTotalLength\":27426,\"busStopId\":755,\"tripRouteId\":4040,\"weatherTemperature\":23.4,\"weatherPrecipitation\":0}\n",
    "]\n",
    "\n",
    "for i in questions:\n",
    "  q = convert_to_text(i).strip()\n",
    "  question = q[:-1]\n",
    "  print(question)\n",
    "  right_resp = q[-1]\n",
    "  resp = boft_model.predict(question)\n",
    "  print(f\"**** resp was {resp}\")\n",
    "  print(f\"**** but correct would be {q}\")"
   ]
  }
 ],
 "metadata": {
  "kernelspec": {
   "display_name": ".venv",
   "language": "python",
   "name": "python3"
  },
  "language_info": {
   "codemirror_mode": {
    "name": "ipython",
    "version": 3
   },
   "file_extension": ".py",
   "mimetype": "text/x-python",
   "name": "python",
   "nbconvert_exporter": "python",
   "pygments_lexer": "ipython3",
   "version": "3.13.2"
  }
 },
 "nbformat": 4,
 "nbformat_minor": 5
}
