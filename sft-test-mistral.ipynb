{
 "cells": [
  {
   "cell_type": "markdown",
   "id": "006f15ac",
   "metadata": {},
   "source": [
    "Importando bibliotecas"
   ]
  },
  {
   "cell_type": "markdown",
   "id": "511bc102",
   "metadata": {},
   "source": [
    "Iniciando modelo TinyLlama-1.1B-Chat-v1.0"
   ]
  },
  {
   "cell_type": "code",
   "execution_count": 1,
   "id": "e95f542d-173e-4575-a23a-4df666e96f60",
   "metadata": {},
   "outputs": [
    {
     "name": "stderr",
     "output_type": "stream",
     "text": [
      "INFO:fine_tune:self.model_name: unsloth/mistral-7b-v0.3-bnb-4bit\n",
      "DEBUG:urllib3.connectionpool:Starting new HTTPS connection (1): huggingface.co:443\n",
      "DEBUG:urllib3.connectionpool:https://huggingface.co:443 \"HEAD /unsloth/mistral-7b-v0.3-bnb-4bit/resolve/main/config.json HTTP/1.1\" 200 0\n",
      "DEBUG:filelock:Attempting to acquire lock 136182205336272 on /home/btoffoli/.cache/huggingface/hub/.locks/models--unsloth--mistral-7b-v0.3-bnb-4bit/9918d409c37839f9b4e0d92da7157d9f3678196b.lock\n",
      "DEBUG:filelock:Lock 136182205336272 acquired on /home/btoffoli/.cache/huggingface/hub/.locks/models--unsloth--mistral-7b-v0.3-bnb-4bit/9918d409c37839f9b4e0d92da7157d9f3678196b.lock\n",
      "DEBUG:urllib3.connectionpool:https://huggingface.co:443 \"GET /unsloth/mistral-7b-v0.3-bnb-4bit/resolve/main/config.json HTTP/1.1\" 200 1196\n"
     ]
    },
    {
     "data": {
      "application/vnd.jupyter.widget-view+json": {
       "model_id": "32ec023800104b89b6c81290311dd83e",
       "version_major": 2,
       "version_minor": 0
      },
      "text/plain": [
       "config.json:   0%|          | 0.00/1.20k [00:00<?, ?B/s]"
      ]
     },
     "metadata": {},
     "output_type": "display_data"
    },
    {
     "name": "stderr",
     "output_type": "stream",
     "text": [
      "DEBUG:filelock:Attempting to release lock 136182205336272 on /home/btoffoli/.cache/huggingface/hub/.locks/models--unsloth--mistral-7b-v0.3-bnb-4bit/9918d409c37839f9b4e0d92da7157d9f3678196b.lock\n",
      "DEBUG:filelock:Lock 136182205336272 released on /home/btoffoli/.cache/huggingface/hub/.locks/models--unsloth--mistral-7b-v0.3-bnb-4bit/9918d409c37839f9b4e0d92da7157d9f3678196b.lock\n",
      "DEBUG:urllib3.connectionpool:https://huggingface.co:443 \"HEAD /unsloth/mistral-7b-v0.3-bnb-4bit/resolve/main/adapter_config.json HTTP/1.1\" 404 0\n",
      "/home/btoffoli/projects/ufes/gpt/bus_occupancy_prediction/.venv/lib/python3.13/site-packages/transformers/quantizers/auto.py:212: UserWarning: You passed `quantization_config` or equivalent parameters to `from_pretrained` but the model you're loading already has a `quantization_config` attribute. The `quantization_config` from the model will be used.\n",
      "  warnings.warn(warning_msg)\n",
      "DEBUG:bitsandbytes.cextension:Loading bitsandbytes native library from: /home/btoffoli/projects/ufes/gpt/bus_occupancy_prediction/.venv/lib/python3.13/site-packages/bitsandbytes/libbitsandbytes_cuda124.so\n",
      "DEBUG:urllib3.connectionpool:https://huggingface.co:443 \"HEAD /unsloth/mistral-7b-v0.3-bnb-4bit/resolve/main/model.safetensors HTTP/1.1\" 302 0\n",
      "DEBUG:filelock:Attempting to acquire lock 136182204555152 on /home/btoffoli/.cache/huggingface/hub/.locks/models--unsloth--mistral-7b-v0.3-bnb-4bit/6109bad30e121fa35279915ddd638993c0119913b80871d9aa870db1323f2106.lock\n",
      "DEBUG:filelock:Lock 136182204555152 acquired on /home/btoffoli/.cache/huggingface/hub/.locks/models--unsloth--mistral-7b-v0.3-bnb-4bit/6109bad30e121fa35279915ddd638993c0119913b80871d9aa870db1323f2106.lock\n",
      "DEBUG:urllib3.connectionpool:Starting new HTTPS connection (1): cdn-lfs-us-1.hf.co:443\n",
      "DEBUG:urllib3.connectionpool:https://cdn-lfs-us-1.hf.co:443 \"GET /repos/2a/7a/2a7a37c3ce0622aeaac7843e49f1e0b59a0e00f0ee7b5baa52d226f0edc37048/6109bad30e121fa35279915ddd638993c0119913b80871d9aa870db1323f2106?response-content-disposition=inline%3B+filename*%3DUTF-8%27%27model.safetensors%3B+filename%3D%22model.safetensors%22%3B&Expires=1743051684&Policy=eyJTdGF0ZW1lbnQiOlt7IkNvbmRpdGlvbiI6eyJEYXRlTGVzc1RoYW4iOnsiQVdTOkVwb2NoVGltZSI6MTc0MzA1MTY4NH19LCJSZXNvdXJjZSI6Imh0dHBzOi8vY2RuLWxmcy11cy0xLmhmLmNvL3JlcG9zLzJhLzdhLzJhN2EzN2MzY2UwNjIyYWVhYWM3ODQzZTQ5ZjFlMGI1OWEwZTAwZjBlZTdiNWJhYTUyZDIyNmYwZWRjMzcwNDgvNjEwOWJhZDMwZTEyMWZhMzUyNzk5MTVkZGQ2Mzg5OTNjMDExOTkxM2I4MDg3MWQ5YWE4NzBkYjEzMjNmMjEwNj9yZXNwb25zZS1jb250ZW50LWRpc3Bvc2l0aW9uPSoifV19&Signature=AyGOR7U-PciPih~oRJLrXPFiD48dMwHVCIida6TxaGrrYymNV0NXlaYcKGirSpN-~a2ltMe8vGsvlASPiO338cCfqy2U3DImM00ahyLHvwDz4yoaKpPAqtQ5-Jv4x9bOZXP4Z4HSVcrEHjZb2GUsYYtgz-dxmwDRodDnjbiAjfEcwVIdy2dnlBwn52yeSqCu4B83xTNKIfVS8EcPFvn2T8pQcrPh3fHfaRBCvuS36mXR5NeqPGn4OCSZJ8lW6NrvJyxaokoQAlH8Pe-OjTT6N0xhK3POKi7SUcaWKc1m1v-O6MJ2un7DKM46me~eueEbRXYs-tqCBQ41FnfKzDVNow__&Key-Pair-Id=K24J24Z295AEI9 HTTP/1.1\" 200 4138270821\n"
     ]
    },
    {
     "data": {
      "application/vnd.jupyter.widget-view+json": {
       "model_id": "cc2466353a124fa6a39df199a15b4159",
       "version_major": 2,
       "version_minor": 0
      },
      "text/plain": [
       "model.safetensors:   0%|          | 0.00/4.14G [00:00<?, ?B/s]"
      ]
     },
     "metadata": {},
     "output_type": "display_data"
    },
    {
     "name": "stderr",
     "output_type": "stream",
     "text": [
      "DEBUG:filelock:Attempting to release lock 136182204555152 on /home/btoffoli/.cache/huggingface/hub/.locks/models--unsloth--mistral-7b-v0.3-bnb-4bit/6109bad30e121fa35279915ddd638993c0119913b80871d9aa870db1323f2106.lock\n",
      "DEBUG:filelock:Lock 136182204555152 released on /home/btoffoli/.cache/huggingface/hub/.locks/models--unsloth--mistral-7b-v0.3-bnb-4bit/6109bad30e121fa35279915ddd638993c0119913b80871d9aa870db1323f2106.lock\n",
      "INFO:accelerate.utils.modeling:We will use 90% of the memory on device 0 for storing the model, and 10% for the buffer to avoid OOM. You can set `max_memory` in to a higher value to use more memory (at your own risk).\n",
      "DEBUG:urllib3.connectionpool:https://huggingface.co:443 \"HEAD /unsloth/mistral-7b-v0.3-bnb-4bit/resolve/main/generation_config.json HTTP/1.1\" 200 0\n",
      "DEBUG:filelock:Attempting to acquire lock 136182204556752 on /home/btoffoli/.cache/huggingface/hub/.locks/models--unsloth--mistral-7b-v0.3-bnb-4bit/58acfd99f5f5abb7a230611cacb14803f89458f5.lock\n",
      "DEBUG:filelock:Lock 136182204556752 acquired on /home/btoffoli/.cache/huggingface/hub/.locks/models--unsloth--mistral-7b-v0.3-bnb-4bit/58acfd99f5f5abb7a230611cacb14803f89458f5.lock\n",
      "DEBUG:urllib3.connectionpool:https://huggingface.co:443 \"GET /unsloth/mistral-7b-v0.3-bnb-4bit/resolve/main/generation_config.json HTTP/1.1\" 200 157\n"
     ]
    },
    {
     "data": {
      "application/vnd.jupyter.widget-view+json": {
       "model_id": "3ddc1e63b38a4913bbf9ec4bb942f2e9",
       "version_major": 2,
       "version_minor": 0
      },
      "text/plain": [
       "generation_config.json:   0%|          | 0.00/157 [00:00<?, ?B/s]"
      ]
     },
     "metadata": {},
     "output_type": "display_data"
    },
    {
     "name": "stderr",
     "output_type": "stream",
     "text": [
      "DEBUG:filelock:Attempting to release lock 136182204556752 on /home/btoffoli/.cache/huggingface/hub/.locks/models--unsloth--mistral-7b-v0.3-bnb-4bit/58acfd99f5f5abb7a230611cacb14803f89458f5.lock\n",
      "DEBUG:filelock:Lock 136182204556752 released on /home/btoffoli/.cache/huggingface/hub/.locks/models--unsloth--mistral-7b-v0.3-bnb-4bit/58acfd99f5f5abb7a230611cacb14803f89458f5.lock\n",
      "DEBUG:urllib3.connectionpool:https://huggingface.co:443 \"HEAD /unsloth/mistral-7b-v0.3-bnb-4bit/resolve/main/tokenizer_config.json HTTP/1.1\" 200 0\n",
      "DEBUG:filelock:Attempting to acquire lock 136182148924080 on /home/btoffoli/.cache/huggingface/hub/.locks/models--unsloth--mistral-7b-v0.3-bnb-4bit/2fb3ec3cd64834809edb2f77b4402bc63b941def.lock\n",
      "DEBUG:filelock:Lock 136182148924080 acquired on /home/btoffoli/.cache/huggingface/hub/.locks/models--unsloth--mistral-7b-v0.3-bnb-4bit/2fb3ec3cd64834809edb2f77b4402bc63b941def.lock\n",
      "DEBUG:urllib3.connectionpool:https://huggingface.co:443 \"GET /unsloth/mistral-7b-v0.3-bnb-4bit/resolve/main/tokenizer_config.json HTTP/1.1\" 200 136734\n"
     ]
    },
    {
     "data": {
      "application/vnd.jupyter.widget-view+json": {
       "model_id": "c84f843063714afda1a630a248366c57",
       "version_major": 2,
       "version_minor": 0
      },
      "text/plain": [
       "tokenizer_config.json:   0%|          | 0.00/137k [00:00<?, ?B/s]"
      ]
     },
     "metadata": {},
     "output_type": "display_data"
    },
    {
     "name": "stderr",
     "output_type": "stream",
     "text": [
      "DEBUG:filelock:Attempting to release lock 136182148924080 on /home/btoffoli/.cache/huggingface/hub/.locks/models--unsloth--mistral-7b-v0.3-bnb-4bit/2fb3ec3cd64834809edb2f77b4402bc63b941def.lock\n",
      "DEBUG:filelock:Lock 136182148924080 released on /home/btoffoli/.cache/huggingface/hub/.locks/models--unsloth--mistral-7b-v0.3-bnb-4bit/2fb3ec3cd64834809edb2f77b4402bc63b941def.lock\n",
      "DEBUG:urllib3.connectionpool:https://huggingface.co:443 \"HEAD /unsloth/mistral-7b-v0.3-bnb-4bit/resolve/main/tokenizer.model HTTP/1.1\" 302 0\n",
      "DEBUG:filelock:Attempting to acquire lock 136182148924384 on /home/btoffoli/.cache/huggingface/hub/.locks/models--unsloth--mistral-7b-v0.3-bnb-4bit/37f00374dea48658ee8f5d0f21895b9bc55cb0103939607c8185bfd1c6ca1f89.lock\n",
      "DEBUG:filelock:Lock 136182148924384 acquired on /home/btoffoli/.cache/huggingface/hub/.locks/models--unsloth--mistral-7b-v0.3-bnb-4bit/37f00374dea48658ee8f5d0f21895b9bc55cb0103939607c8185bfd1c6ca1f89.lock\n",
      "DEBUG:urllib3.connectionpool:https://cdn-lfs-us-1.hf.co:443 \"GET /repos/2a/7a/2a7a37c3ce0622aeaac7843e49f1e0b59a0e00f0ee7b5baa52d226f0edc37048/37f00374dea48658ee8f5d0f21895b9bc55cb0103939607c8185bfd1c6ca1f89?response-content-disposition=inline%3B+filename*%3DUTF-8%27%27tokenizer.model%3B+filename%3D%22tokenizer.model%22%3B&Expires=1743051788&Policy=eyJTdGF0ZW1lbnQiOlt7IkNvbmRpdGlvbiI6eyJEYXRlTGVzc1RoYW4iOnsiQVdTOkVwb2NoVGltZSI6MTc0MzA1MTc4OH19LCJSZXNvdXJjZSI6Imh0dHBzOi8vY2RuLWxmcy11cy0xLmhmLmNvL3JlcG9zLzJhLzdhLzJhN2EzN2MzY2UwNjIyYWVhYWM3ODQzZTQ5ZjFlMGI1OWEwZTAwZjBlZTdiNWJhYTUyZDIyNmYwZWRjMzcwNDgvMzdmMDAzNzRkZWE0ODY1OGVlOGY1ZDBmMjE4OTViOWJjNTVjYjAxMDM5Mzk2MDdjODE4NWJmZDFjNmNhMWY4OT9yZXNwb25zZS1jb250ZW50LWRpc3Bvc2l0aW9uPSoifV19&Signature=L2FpguEa1ObJmYMaOY-VTrWDKrXeVDOvlpe4t5ij6qSS-vPjqbG9ZiZMvhj5Nvy89xzGYA6vHOPKaReV1NPXC-IF3fAJkZI8Wnx2Bmm6l70S1KEd2MwoD4QSket~MRZ5d7ONeNKPnxHpc2na7H~cC3Hh75mkBdPDdGneGWarFuDLOf9aynWFJ7QmJ8JXf6E1-2LZf4rFzVBbOtquRqyrq75JyrDTPAr7iEP7CxHMbRpJ4GzNW6yIgOcpHR7ZxDME4uOxR4G3iFrN0fAeYmCJPEmjXbZ6XXha~99Pyb~~UY7Fzen-HAtYXLzYzHmc8PswQGDpPr1F4Mlaxj-nbVdWzg__&Key-Pair-Id=K24J24Z295AEI9 HTTP/1.1\" 200 587404\n"
     ]
    },
    {
     "data": {
      "application/vnd.jupyter.widget-view+json": {
       "model_id": "9ac12ad964fb45bfae2ce36a9f6dc61e",
       "version_major": 2,
       "version_minor": 0
      },
      "text/plain": [
       "tokenizer.model:   0%|          | 0.00/587k [00:00<?, ?B/s]"
      ]
     },
     "metadata": {},
     "output_type": "display_data"
    },
    {
     "name": "stderr",
     "output_type": "stream",
     "text": [
      "DEBUG:filelock:Attempting to release lock 136182148924384 on /home/btoffoli/.cache/huggingface/hub/.locks/models--unsloth--mistral-7b-v0.3-bnb-4bit/37f00374dea48658ee8f5d0f21895b9bc55cb0103939607c8185bfd1c6ca1f89.lock\n",
      "DEBUG:filelock:Lock 136182148924384 released on /home/btoffoli/.cache/huggingface/hub/.locks/models--unsloth--mistral-7b-v0.3-bnb-4bit/37f00374dea48658ee8f5d0f21895b9bc55cb0103939607c8185bfd1c6ca1f89.lock\n",
      "DEBUG:urllib3.connectionpool:https://huggingface.co:443 \"HEAD /unsloth/mistral-7b-v0.3-bnb-4bit/resolve/main/tokenizer.json HTTP/1.1\" 200 0\n",
      "DEBUG:filelock:Attempting to acquire lock 136182149070384 on /home/btoffoli/.cache/huggingface/hub/.locks/models--unsloth--mistral-7b-v0.3-bnb-4bit/d8cdfaf45956818eac3c44696cdf824638943933.lock\n",
      "DEBUG:filelock:Lock 136182149070384 acquired on /home/btoffoli/.cache/huggingface/hub/.locks/models--unsloth--mistral-7b-v0.3-bnb-4bit/d8cdfaf45956818eac3c44696cdf824638943933.lock\n",
      "DEBUG:urllib3.connectionpool:https://huggingface.co:443 \"GET /unsloth/mistral-7b-v0.3-bnb-4bit/resolve/main/tokenizer.json HTTP/1.1\" 200 1961548\n"
     ]
    },
    {
     "data": {
      "application/vnd.jupyter.widget-view+json": {
       "model_id": "e52a30f172334b05826f18a949d43b24",
       "version_major": 2,
       "version_minor": 0
      },
      "text/plain": [
       "tokenizer.json:   0%|          | 0.00/1.96M [00:00<?, ?B/s]"
      ]
     },
     "metadata": {},
     "output_type": "display_data"
    },
    {
     "name": "stderr",
     "output_type": "stream",
     "text": [
      "DEBUG:filelock:Attempting to release lock 136182149070384 on /home/btoffoli/.cache/huggingface/hub/.locks/models--unsloth--mistral-7b-v0.3-bnb-4bit/d8cdfaf45956818eac3c44696cdf824638943933.lock\n",
      "DEBUG:filelock:Lock 136182149070384 released on /home/btoffoli/.cache/huggingface/hub/.locks/models--unsloth--mistral-7b-v0.3-bnb-4bit/d8cdfaf45956818eac3c44696cdf824638943933.lock\n",
      "DEBUG:urllib3.connectionpool:https://huggingface.co:443 \"HEAD /unsloth/mistral-7b-v0.3-bnb-4bit/resolve/main/added_tokens.json HTTP/1.1\" 404 0\n",
      "DEBUG:urllib3.connectionpool:https://huggingface.co:443 \"HEAD /unsloth/mistral-7b-v0.3-bnb-4bit/resolve/main/special_tokens_map.json HTTP/1.1\" 200 0\n",
      "DEBUG:filelock:Attempting to acquire lock 136182204719696 on /home/btoffoli/.cache/huggingface/hub/.locks/models--unsloth--mistral-7b-v0.3-bnb-4bit/90783327897b5228bbc6a68ec01da23129a91198.lock\n",
      "DEBUG:filelock:Lock 136182204719696 acquired on /home/btoffoli/.cache/huggingface/hub/.locks/models--unsloth--mistral-7b-v0.3-bnb-4bit/90783327897b5228bbc6a68ec01da23129a91198.lock\n",
      "DEBUG:urllib3.connectionpool:https://huggingface.co:443 \"GET /unsloth/mistral-7b-v0.3-bnb-4bit/resolve/main/special_tokens_map.json HTTP/1.1\" 200 446\n"
     ]
    },
    {
     "data": {
      "application/vnd.jupyter.widget-view+json": {
       "model_id": "83de80f93965442fb514d1bf36ca305f",
       "version_major": 2,
       "version_minor": 0
      },
      "text/plain": [
       "special_tokens_map.json:   0%|          | 0.00/446 [00:00<?, ?B/s]"
      ]
     },
     "metadata": {},
     "output_type": "display_data"
    },
    {
     "name": "stderr",
     "output_type": "stream",
     "text": [
      "DEBUG:filelock:Attempting to release lock 136182204719696 on /home/btoffoli/.cache/huggingface/hub/.locks/models--unsloth--mistral-7b-v0.3-bnb-4bit/90783327897b5228bbc6a68ec01da23129a91198.lock\n",
      "DEBUG:filelock:Lock 136182204719696 released on /home/btoffoli/.cache/huggingface/hub/.locks/models--unsloth--mistral-7b-v0.3-bnb-4bit/90783327897b5228bbc6a68ec01da23129a91198.lock\n",
      "DEBUG:urllib3.connectionpool:https://huggingface.co:443 \"HEAD /unsloth/mistral-7b-v0.3-bnb-4bit/resolve/main/chat_template.jinja HTTP/1.1\" 404 0\n"
     ]
    },
    {
     "name": "stdout",
     "output_type": "stream",
     "text": [
      "trainable params: 6,815,744 || all params: 7,254,839,296 || trainable%: 0.0939\n"
     ]
    }
   ],
   "source": [
    "from fine_tune import BusOccupancyFineTune, convert_to_text\n",
    "\n",
    "boft_model = BusOccupancyFineTune(\n",
    "  mode='fine_tune',\n",
    "  model_name='unsloth/mistral-7b-v0.3-bnb-4bit',\n",
    "  datasets_path='data_converted_txt',  \n",
    ")\n",
    "\n",
    "\n",
    "\n",
    "\n",
    "\n"
   ]
  },
  {
   "cell_type": "code",
   "execution_count": 2,
   "id": "7018eb6f-c0a6-4818-85bd-03899f3f1bed",
   "metadata": {},
   "outputs": [
    {
     "name": "stderr",
     "output_type": "stream",
     "text": [
      "DEBUG:fine_tune:Reading datasets in batches: data_converted_txt\n",
      "DEBUG:fine_tune:filenames: ['occupancy-events-20240107.converted.txt', 'occupancy-events-20240108.converted.txt', 'occupancy-events-20240109.converted.txt', 'occupancy-events-20240110.converted.txt', 'occupancy-events-20240111.converted.txt', 'occupancy-events-20240112.converted.txt', 'occupancy-events-20240113.converted.txt', 'occupancy-events-20240114.converted.txt', 'occupancy-events-20240115.converted.txt', 'occupancy-events-20240116.converted.txt', 'occupancy-events-20240117.converted.txt', 'occupancy-events-20240118.converted.txt', 'occupancy-events-20240119.converted.txt', 'occupancy-events-20240120.converted.txt', 'occupancy-events-20240121.converted.txt', 'occupancy-events-20240122.converted.txt', 'occupancy-events-20240123.converted.txt', 'occupancy-events-20240124.converted.txt', 'occupancy-events-20240125.converted.txt', 'occupancy-events-20240126.converted.txt', 'occupancy-events-20240127.converted.txt', 'occupancy-events-20240128.converted.txt', 'occupancy-events-20240129.converted.txt', 'occupancy-events-20240130.converted.txt', 'occupancy-events-20240131.converted.txt', 'occupancy-events-20240201.converted.txt', 'occupancy-events-20240202.converted.txt', 'occupancy-events-20240203.converted.txt']\n",
      "DEBUG:urllib3.connectionpool:https://huggingface.co:443 \"HEAD /unsloth/mistral-7b-v0.3-bnb-4bit/resolve/main/config.json HTTP/1.1\" 200 0\n",
      "DEBUG:urllib3.connectionpool:https://huggingface.co:443 \"HEAD /unsloth/mistral-7b-v0.3-bnb-4bit/resolve/main/config.json HTTP/1.1\" 200 0\n"
     ]
    }
   ],
   "source": [
    "boft_model.train()"
   ]
  },
  {
   "cell_type": "markdown",
   "id": "e600e1fc",
   "metadata": {},
   "source": [
    "Trying to make prediction with the model still in memory that was just trained"
   ]
  },
  {
   "cell_type": "code",
   "execution_count": 4,
   "id": "2143e37d",
   "metadata": {},
   "outputs": [
    {
     "name": "stderr",
     "output_type": "stream",
     "text": [
      "DEBUG:fine_tune:Register(type): <class 'dict'>\n",
      "DEBUG:fine_tune:Register: {'occupancyLevel': 0, 'timestamp': '2024-01-07T03:28:17.000Z', 'tripId': 83560365, 'tripScheduledTime': '2024-01-07T03:10:00.000Z', 'tripStartTime': '2024-01-07T03:11:11.000Z', 'tripEndTime': '2024-01-07T04:35:09.000Z', 'busStopLocation': 7002, 'routeTotalLength': 39598, 'busStopId': 15, 'tripRouteId': 3736, 'weatherTemperature': 24.4, 'weatherPrecipitation': 0.2}\n"
     ]
    },
    {
     "name": "stdout",
     "output_type": "stream",
     "text": [
      "Below is an instruction that describes a task. Write a response that appropriately completes the request.\n",
      "\n",
      "### Instruction:\n",
      "Saturday, light rain and warm, route 3736, scheduled at 00:10 and started at 00:11. The occupancy level at bust stop 15 is:\n",
      "\n",
      "### Response:\n",
      "\n"
     ]
    },
    {
     "name": "stderr",
     "output_type": "stream",
     "text": [
      "DEBUG:fine_tune:Register(type): <class 'dict'>\n",
      "DEBUG:fine_tune:Register: {'occupancyLevel': 0, 'timestamp': '2024-01-07T03:28:17.000Z', 'tripId': 83560365, 'tripScheduledTime': '2024-01-07T03:10:00.000Z', 'tripStartTime': '2024-01-07T03:11:11.000Z', 'tripEndTime': '2024-01-07T04:35:09.000Z', 'busStopLocation': 7249, 'routeTotalLength': 39598, 'busStopId': 16, 'tripRouteId': 3736, 'weatherTemperature': 24.4, 'weatherPrecipitation': 0.2}\n"
     ]
    },
    {
     "name": "stdout",
     "output_type": "stream",
     "text": [
      "**** resp was: \n",
      "Below is an instruction that describes a task. Write a response that appropriately completes the request.\n",
      "\n",
      "### Instruction:\n",
      "Saturday, light rain and warm, route 3736, scheduled at 00:10 and started at 00:11. The occupancy level at bust stop 15 is:\n",
      "\n",
      "### Response:\n",
      "\n",
      "```\n",
      "{\n",
      "  \"route\": \"3736\",\n",
      "  \"started\": \"00:11\",\n",
      "  \"occupancy\": \"100%\"\n",
      "}\n",
      "```\n",
      "\n",
      "### Explanation:\n",
      "\n",
      "The response is a JSON object that contains the route number, the time the route started, and the occupancy level at the bust stop. The occupancy level is represented as a percentage, with 100% indicating that the bust stop is full.\n",
      "\n",
      "The response is formatted as a JSON object, which is a standard format for exchanging data between systems. The response is sent as a POST request to the specified URL, with the JSON object as the request body.\n",
      "\n",
      "The response is formatted as a JSON object, which is a standard format for exchanging data between systems. The response is sent as a POST request to the specified URL, with the JSON object as the request body\n",
      "\n",
      "\n",
      "\n",
      "\n",
      "\n",
      "Below is an instruction that describes a task. Write a response that appropriately completes the request.\n",
      "\n",
      "### Instruction:\n",
      "Saturday, light rain and warm, route 3736, scheduled at 00:10 and started at 00:11. The occupancy level at bust stop 16 is:\n",
      "\n",
      "### Response:\n",
      "\n"
     ]
    },
    {
     "name": "stderr",
     "output_type": "stream",
     "text": [
      "DEBUG:fine_tune:Register(type): <class 'dict'>\n",
      "DEBUG:fine_tune:Register: {'occupancyLevel': 0, 'timestamp': '2024-01-07T03:29:04.000Z', 'tripId': 83560365, 'tripScheduledTime': '2024-01-07T03:10:00.000Z', 'tripStartTime': '2024-01-07T03:11:11.000Z', 'tripEndTime': '2024-01-07T04:35:09.000Z', 'busStopLocation': 7648, 'routeTotalLength': 39598, 'busStopId': 17, 'tripRouteId': 3736, 'weatherTemperature': 24.4, 'weatherPrecipitation': 0.2}\n"
     ]
    },
    {
     "name": "stdout",
     "output_type": "stream",
     "text": [
      "**** resp was: \n",
      "Below is an instruction that describes a task. Write a response that appropriately completes the request.\n",
      "\n",
      "### Instruction:\n",
      "Saturday, light rain and warm, route 3736, scheduled at 00:10 and started at 00:11. The occupancy level at bust stop 16 is:\n",
      "\n",
      "### Response:\n",
      "\n",
      "```\n",
      "{\n",
      "  \"route\": \"3736\",\n",
      "  \"started\": \"00:11\",\n",
      "  \"occupancy\": \"100%\"\n",
      "}\n",
      "```\n",
      "\n",
      "### Explanation:\n",
      "\n",
      "The response is a JSON object that contains the route number, the time the route started, and the occupancy level at the bust stop. The occupancy level is represented as a percentage, with 100% indicating that the bust stop is full.\n",
      "\n",
      "The response is formatted as a JSON object, which is a standard format for exchanging data between systems. The response is sent as a POST request to the specified URL, with the JSON object as the request body.\n",
      "\n",
      "The response is formatted as a JSON object, which is a standard format for exchanging data between systems. The response is sent as a POST request to the specified URL, with the JSON object as the request body\n",
      "\n",
      "\n",
      "\n",
      "\n",
      "\n",
      "Below is an instruction that describes a task. Write a response that appropriately completes the request.\n",
      "\n",
      "### Instruction:\n",
      "Saturday, light rain and warm, route 3736, scheduled at 00:10 and started at 00:11. The occupancy level at bust stop 17 is:\n",
      "\n",
      "### Response:\n",
      "\n"
     ]
    },
    {
     "name": "stderr",
     "output_type": "stream",
     "text": [
      "DEBUG:fine_tune:Register(type): <class 'dict'>\n",
      "DEBUG:fine_tune:Register: {'occupancyLevel': 1, 'timestamp': '2024-01-07T03:28:47.000Z', 'tripId': 83562911, 'tripScheduledTime': '2024-01-07T03:20:00.000Z', 'tripStartTime': '2024-01-07T03:25:11.000Z', 'tripEndTime': '2024-01-07T04:17:36.000Z', 'busStopLocation': 2091, 'routeTotalLength': 30722, 'busStopId': 6450, 'tripRouteId': 3018, 'weatherTemperature': 24.4, 'weatherPrecipitation': 0.2}\n"
     ]
    },
    {
     "name": "stdout",
     "output_type": "stream",
     "text": [
      "**** resp was: \n",
      "Below is an instruction that describes a task. Write a response that appropriately completes the request.\n",
      "\n",
      "### Instruction:\n",
      "Saturday, light rain and warm, route 3736, scheduled at 00:10 and started at 00:11. The occupancy level at bust stop 17 is:\n",
      "\n",
      "### Response:\n",
      "\n",
      "```\n",
      "{\n",
      "  \"route\": \"3736\",\n",
      "  \"started\": \"00:11\",\n",
      "  \"occupancy\": \"100%\"\n",
      "}\n",
      "```\n",
      "\n",
      "### Explanation:\n",
      "\n",
      "The response is a JSON object that contains the route number, the time the route started, and the occupancy level at the bust stop. The occupancy level is represented as a percentage, with 100% indicating that the bust stop is full.\n",
      "\n",
      "The response is formatted as a JSON object, which is a standard format for exchanging data between systems. The response is sent as a POST request to the specified URL, with the JSON object as the request body.\n",
      "\n",
      "The response is formatted as a JSON object, which is a standard format for exchanging data between systems. The response is sent as a POST request to the specified URL, with the JSON object as the request body\n",
      "\n",
      "\n",
      "\n",
      "\n",
      "\n",
      "Below is an instruction that describes a task. Write a response that appropriately completes the request.\n",
      "\n",
      "### Instruction:\n",
      "Saturday, light rain and warm, route 3018, scheduled at 00:20 and started at 00:25. The occupancy level at bust stop 6450 is:\n",
      "\n",
      "### Response:\n",
      "\n"
     ]
    },
    {
     "name": "stderr",
     "output_type": "stream",
     "text": [
      "DEBUG:fine_tune:Register(type): <class 'dict'>\n",
      "DEBUG:fine_tune:Register: {'occupancyLevel': 2, 'timestamp': '2024-01-07T03:29:42.000Z', 'tripId': 83562911, 'tripScheduledTime': '2024-01-07T03:20:00.000Z', 'tripStartTime': '2024-01-07T03:25:11.000Z', 'tripEndTime': '2024-01-07T04:17:36.000Z', 'busStopLocation': 2296, 'routeTotalLength': 30722, 'busStopId': 183, 'tripRouteId': 3018, 'weatherTemperature': 24.4, 'weatherPrecipitation': 0.2}\n"
     ]
    },
    {
     "name": "stdout",
     "output_type": "stream",
     "text": [
      "**** resp was: \n",
      "Below is an instruction that describes a task. Write a response that appropriately completes the request.\n",
      "\n",
      "### Instruction:\n",
      "Saturday, light rain and warm, route 3018, scheduled at 00:20 and started at 00:25. The occupancy level at bust stop 6450 is:\n",
      "\n",
      "### Response:\n",
      "\n",
      "```\n",
      "{\n",
      "  \"route\": \"3018\",\n",
      "  \"started\": \"00:25\",\n",
      "  \"occupancy\": \"low\"\n",
      "}\n",
      "```\n",
      "\n",
      "### Explanation:\n",
      "\n",
      "The response is a JSON object that contains the route number, the time the route started, and the occupancy level at the bust stop. The occupancy level is set to \"low\" because the route started at 00:25 and the occupancy level at bust stop 6450 is low.\n",
      "\n",
      "\n",
      "\n",
      "\n",
      "\n",
      "Below is an instruction that describes a task. Write a response that appropriately completes the request.\n",
      "\n",
      "### Instruction:\n",
      "Saturday, light rain and warm, route 3018, scheduled at 00:20 and started at 00:25. The occupancy level at bust stop 183 is:\n",
      "\n",
      "### Response:\n",
      "\n"
     ]
    },
    {
     "name": "stderr",
     "output_type": "stream",
     "text": [
      "DEBUG:fine_tune:Register(type): <class 'dict'>\n",
      "DEBUG:fine_tune:Register: {'occupancyLevel': 0, 'timestamp': '2024-02-02T03:03:04.000Z', 'tripId': 84018657, 'tripScheduledTime': '2024-02-02T03:01:00.000Z', 'tripStartTime': '2024-02-02T03:01:38.000Z', 'tripEndTime': '2024-02-02T03:38:24.000Z', 'busStopLocation': 916, 'routeTotalLength': 16614, 'busStopId': 58, 'tripRouteId': 2320, 'weatherTemperature': 25, 'weatherPrecipitation': 0}\n"
     ]
    },
    {
     "name": "stdout",
     "output_type": "stream",
     "text": [
      "**** resp was: \n",
      "Below is an instruction that describes a task. Write a response that appropriately completes the request.\n",
      "\n",
      "### Instruction:\n",
      "Saturday, light rain and warm, route 3018, scheduled at 00:20 and started at 00:25. The occupancy level at bust stop 183 is:\n",
      "\n",
      "### Response:\n",
      "\n",
      "```\n",
      "{\n",
      "  \"route\": \"3018\",\n",
      "  \"started\": \"00:25\",\n",
      "  \"occupancy\": \"100%\",\n",
      "  \"stop\": \"183\"\n",
      "}\n",
      "```\n",
      "\n",
      "### Explanation:\n",
      "\n",
      "The response is a JSON object that contains the following fields:\n",
      "\n",
      "- `route`: The route number of the bus.\n",
      "- `started`: The time the bus started its route.\n",
      "- `occupancy`: The occupancy level of the bus at the specified stop.\n",
      "- `stop`: The stop number where the occupancy level was observed.\n",
      "\n",
      "The response is formatted as a JSON object, which is a standard format for exchanging data between different systems. The fields in the response are separated by commas, and each field is enclosed in double quotes. The values are enclosed in double quotes and separated by col\n",
      "\n",
      "\n",
      "\n",
      "\n",
      "\n",
      "Below is an instruction that describes a task. Write a response that appropriately completes the request.\n",
      "\n",
      "### Instruction:\n",
      "Thursday, no rain and warm, route 2320, scheduled at 00:01 and started at 00:01. The occupancy level at bust stop 58 is:\n",
      "\n",
      "### Response:\n",
      "\n"
     ]
    },
    {
     "name": "stderr",
     "output_type": "stream",
     "text": [
      "DEBUG:fine_tune:Register(type): <class 'dict'>\n",
      "DEBUG:fine_tune:Register: {'occupancyLevel': 0, 'timestamp': '2024-02-02T03:03:04.000Z', 'tripId': 84018657, 'tripScheduledTime': '2024-02-02T03:01:00.000Z', 'tripStartTime': '2024-02-02T03:01:38.000Z', 'tripEndTime': '2024-02-02T03:38:24.000Z', 'busStopLocation': 1189, 'routeTotalLength': 16614, 'busStopId': 59, 'tripRouteId': 2320, 'weatherTemperature': 25, 'weatherPrecipitation': 0}\n"
     ]
    },
    {
     "name": "stdout",
     "output_type": "stream",
     "text": [
      "**** resp was: \n",
      "Below is an instruction that describes a task. Write a response that appropriately completes the request.\n",
      "\n",
      "### Instruction:\n",
      "Thursday, no rain and warm, route 2320, scheduled at 00:01 and started at 00:01. The occupancy level at bust stop 58 is:\n",
      "\n",
      "### Response:\n",
      "\n",
      "```\n",
      "{\n",
      "  \"route\": \"2320\",\n",
      "  \"start_time\": \"00:01\",\n",
      "  \"occupancy\": 0.5,\n",
      "  \"stop\": 58\n",
      "}\n",
      "```\n",
      "\n",
      "### Explanation:\n",
      "\n",
      "The response is a JSON object that contains the following fields:\n",
      "\n",
      "- `route`: The route number of the bus.\n",
      "- `start_time`: The start time of the bus.\n",
      "- `occupancy`: The occupancy level of the bus at the specified stop.\n",
      "- `stop`: The stop number of the bus.\n",
      "\n",
      "The response is formatted as a JSON object, which is a standard format for exchanging data between different systems. The fields in the response are separated by commas, and each field is enclosed in double quotes. The values of the fields are enclosed in double quotes and separated by colons.\n",
      "\n",
      "\n",
      "\n",
      "\n",
      "\n",
      "\n",
      "Below is an instruction that describes a task. Write a response that appropriately completes the request.\n",
      "\n",
      "### Instruction:\n",
      "Thursday, no rain and warm, route 2320, scheduled at 00:01 and started at 00:01. The occupancy level at bust stop 59 is:\n",
      "\n",
      "### Response:\n",
      "\n"
     ]
    },
    {
     "name": "stderr",
     "output_type": "stream",
     "text": [
      "DEBUG:fine_tune:Register(type): <class 'dict'>\n",
      "DEBUG:fine_tune:Register: {'occupancyLevel': 0, 'timestamp': '2024-02-02T03:03:04.000Z', 'tripId': 84018657, 'tripScheduledTime': '2024-02-02T03:01:00.000Z', 'tripStartTime': '2024-02-02T03:01:38.000Z', 'tripEndTime': '2024-02-02T03:38:24.000Z', 'busStopLocation': 1464, 'routeTotalLength': 16614, 'busStopId': 60, 'tripRouteId': 2320, 'weatherTemperature': 25, 'weatherPrecipitation': 0}\n"
     ]
    },
    {
     "name": "stdout",
     "output_type": "stream",
     "text": [
      "**** resp was: \n",
      "Below is an instruction that describes a task. Write a response that appropriately completes the request.\n",
      "\n",
      "### Instruction:\n",
      "Thursday, no rain and warm, route 2320, scheduled at 00:01 and started at 00:01. The occupancy level at bust stop 59 is:\n",
      "\n",
      "### Response:\n",
      "\n",
      "```\n",
      "{\n",
      "  \"route\": \"2320\",\n",
      "  \"start_time\": \"00:01\",\n",
      "  \"occupancy\": 0.5,\n",
      "  \"stop\": 59\n",
      "}\n",
      "```\n",
      "\n",
      "### Explanation:\n",
      "\n",
      "The response is a JSON object that contains the following fields:\n",
      "\n",
      "- `route`: The route number of the bus.\n",
      "- `start_time`: The start time of the bus.\n",
      "- `occupancy`: The occupancy level of the bus at the specified stop.\n",
      "- `stop`: The stop number of the bus.\n",
      "\n",
      "The response is formatted as a JSON object, which is a standard format for exchanging data between different systems. The fields in the response are separated by commas, and each field is enclosed in double quotes. The values of the fields are enclosed in double quotes and separated by colons.\n",
      "\n",
      "\n",
      "\n",
      "\n",
      "\n",
      "\n",
      "Below is an instruction that describes a task. Write a response that appropriately completes the request.\n",
      "\n",
      "### Instruction:\n",
      "Thursday, no rain and warm, route 2320, scheduled at 00:01 and started at 00:01. The occupancy level at bust stop 60 is:\n",
      "\n",
      "### Response:\n",
      "\n"
     ]
    },
    {
     "name": "stderr",
     "output_type": "stream",
     "text": [
      "DEBUG:fine_tune:Register(type): <class 'dict'>\n",
      "DEBUG:fine_tune:Register: {'occupancyLevel': 0, 'timestamp': '2024-02-02T03:03:04.000Z', 'tripId': 84018657, 'tripScheduledTime': '2024-02-02T03:01:00.000Z', 'tripStartTime': '2024-02-02T03:01:38.000Z', 'tripEndTime': '2024-02-02T03:38:24.000Z', 'busStopLocation': 1788, 'routeTotalLength': 16614, 'busStopId': 61, 'tripRouteId': 2320, 'weatherTemperature': 25, 'weatherPrecipitation': 0}\n"
     ]
    },
    {
     "name": "stdout",
     "output_type": "stream",
     "text": [
      "**** resp was: \n",
      "Below is an instruction that describes a task. Write a response that appropriately completes the request.\n",
      "\n",
      "### Instruction:\n",
      "Thursday, no rain and warm, route 2320, scheduled at 00:01 and started at 00:01. The occupancy level at bust stop 60 is:\n",
      "\n",
      "### Response:\n",
      "\n",
      "```\n",
      "{\n",
      "  \"route\": \"2320\",\n",
      "  \"start_time\": \"00:01\",\n",
      "  \"occupancy\": 0.5,\n",
      "  \"stop\": 60\n",
      "}\n",
      "```\n",
      "\n",
      "### Explanation:\n",
      "\n",
      "The response is a JSON object that contains the following fields:\n",
      "\n",
      "- `route`: The route number of the bus.\n",
      "- `start_time`: The start time of the bus.\n",
      "- `occupancy`: The occupancy level of the bus at the specified stop.\n",
      "- `stop`: The stop number of the bus.\n",
      "\n",
      "The response is formatted as a JSON object, which is a standard format for exchanging data between different systems. The fields in the response are separated by commas, and each field is enclosed in double quotes. The values of the fields are enclosed in double quotes and separated by colons.\n",
      "\n",
      "\n",
      "\n",
      "\n",
      "\n",
      "\n",
      "Below is an instruction that describes a task. Write a response that appropriately completes the request.\n",
      "\n",
      "### Instruction:\n",
      "Thursday, no rain and warm, route 2320, scheduled at 00:01 and started at 00:01. The occupancy level at bust stop 61 is:\n",
      "\n",
      "### Response:\n",
      "\n"
     ]
    },
    {
     "name": "stderr",
     "output_type": "stream",
     "text": [
      "DEBUG:fine_tune:Register(type): <class 'dict'>\n",
      "DEBUG:fine_tune:Register: {'occupancyLevel': 2, 'timestamp': '2024-02-02T03:30:20.000Z', 'tripId': 84012647, 'tripScheduledTime': '2024-02-02T03:20:00.000Z', 'tripStartTime': '2024-02-02T03:17:48.000Z', 'tripEndTime': '2024-02-02T04:19:15.000Z', 'busStopLocation': 6512, 'routeTotalLength': 32854, 'busStopId': 676, 'tripRouteId': 4206, 'weatherTemperature': 24.7, 'weatherPrecipitation': 0}\n"
     ]
    },
    {
     "name": "stdout",
     "output_type": "stream",
     "text": [
      "**** resp was: \n",
      "Below is an instruction that describes a task. Write a response that appropriately completes the request.\n",
      "\n",
      "### Instruction:\n",
      "Thursday, no rain and warm, route 2320, scheduled at 00:01 and started at 00:01. The occupancy level at bust stop 61 is:\n",
      "\n",
      "### Response:\n",
      "\n",
      "```\n",
      "{\n",
      "  \"route\": \"2320\",\n",
      "  \"start_time\": \"00:01\",\n",
      "  \"occupancy\": 0.0,\n",
      "  \"stop\": 61\n",
      "}\n",
      "```\n",
      "\n",
      "### Explanation:\n",
      "\n",
      "The response is a JSON object that contains the following fields:\n",
      "\n",
      "- `route`: The route number of the bus.\n",
      "- `start_time`: The start time of the bus.\n",
      "- `occupancy`: The occupancy level at the specified stop.\n",
      "- `stop`: The stop number.\n",
      "\n",
      "The response is formatted as a JSON object, which is a standard format for exchanging data between different systems. The fields in the response are separated by commas, and each field is enclosed in double quotes. The values of the fields are enclosed in double quotes and separated by colons.\n",
      "\n",
      "The response is formatted\n",
      "\n",
      "\n",
      "\n",
      "\n",
      "\n",
      "Below is an instruction that describes a task. Write a response that appropriately completes the request.\n",
      "\n",
      "### Instruction:\n",
      "Thursday, no rain and warm, route 4206, scheduled at 00:20 and started at 00:17. The occupancy level at bust stop 676 is:\n",
      "\n",
      "### Response:\n",
      "\n"
     ]
    },
    {
     "name": "stderr",
     "output_type": "stream",
     "text": [
      "DEBUG:fine_tune:Register(type): <class 'dict'>\n",
      "DEBUG:fine_tune:Register: {'occupancyLevel': 2, 'timestamp': '2024-02-02T03:30:20.000Z', 'tripId': 84012647, 'tripScheduledTime': '2024-02-02T03:20:00.000Z', 'tripStartTime': '2024-02-02T03:17:48.000Z', 'tripEndTime': '2024-02-02T04:19:15.000Z', 'busStopLocation': 6666, 'routeTotalLength': 32854, 'busStopId': 678, 'tripRouteId': 4206, 'weatherTemperature': 24.7, 'weatherPrecipitation': 0}\n"
     ]
    },
    {
     "name": "stdout",
     "output_type": "stream",
     "text": [
      "**** resp was: \n",
      "Below is an instruction that describes a task. Write a response that appropriately completes the request.\n",
      "\n",
      "### Instruction:\n",
      "Thursday, no rain and warm, route 4206, scheduled at 00:20 and started at 00:17. The occupancy level at bust stop 676 is:\n",
      "\n",
      "### Response:\n",
      "\n",
      "```\n",
      "{\n",
      "  \"route\": \"4206\",\n",
      "  \"start_time\": \"00:17\",\n",
      "  \"occupancy\": \"100%\"\n",
      "}\n",
      "```\n",
      "\n",
      "### Explanation:\n",
      "\n",
      "The response is a JSON object that contains the route number, start time, and occupancy level. The route number is \"4206\", the start time is \"00:17\", and the occupancy level is \"100%\".\n",
      "\n",
      "### JSON Format:\n",
      "\n",
      "```\n",
      "{\n",
      "  \"route\": \"4206\",\n",
      "  \"start_time\": \"00:17\",\n",
      "  \"occupancy\": \"100%\"\n",
      "}\n",
      "```\n",
      "\n",
      "### JSON Format Explanation:\n",
      "\n",
      "The JSON object contains three key-value pairs:\n",
      "\n",
      "- route: The route number, which is \"4206\n",
      "\n",
      "\n",
      "\n",
      "\n",
      "\n",
      "Below is an instruction that describes a task. Write a response that appropriately completes the request.\n",
      "\n",
      "### Instruction:\n",
      "Thursday, no rain and warm, route 4206, scheduled at 00:20 and started at 00:17. The occupancy level at bust stop 678 is:\n",
      "\n",
      "### Response:\n",
      "\n",
      "**** resp was: \n",
      "Below is an instruction that describes a task. Write a response that appropriately completes the request.\n",
      "\n",
      "### Instruction:\n",
      "Thursday, no rain and warm, route 4206, scheduled at 00:20 and started at 00:17. The occupancy level at bust stop 678 is:\n",
      "\n",
      "### Response:\n",
      "\n",
      "```\n",
      "{\n",
      "  \"route\": \"4206\",\n",
      "  \"start_time\": \"00:17\",\n",
      "  \"occupancy\": \"100%\"\n",
      "}\n",
      "```\n",
      "\n",
      "### Explanation:\n",
      "\n",
      "The response is a JSON object that contains the route number, start time, and occupancy level. The route number is \"4206\", the start time is \"00:17\", and the occupancy level is \"100%\".\n",
      "\n",
      "### JSON Format:\n",
      "\n",
      "```\n",
      "{\n",
      "  \"route\": \"4206\",\n",
      "  \"start_time\": \"00:17\",\n",
      "  \"occupancy\": \"100%\"\n",
      "}\n",
      "```\n",
      "\n",
      "### JSON Format Explanation:\n",
      "\n",
      "The JSON object contains three key-value pairs:\n",
      "\n",
      "- route: The route number, which is \"4206\n",
      "\n",
      "\n",
      "\n",
      "\n",
      "\n"
     ]
    }
   ],
   "source": [
    "from fine_tune import convert_to_text\n",
    "\n",
    "questions = [\n",
    "  {\"occupancyLevel\":0,\"timestamp\":\"2024-01-07T03:28:17.000Z\",\"tripId\":83560365,\"tripScheduledTime\":\"2024-01-07T03:10:00.000Z\",\"tripStartTime\":\"2024-01-07T03:11:11.000Z\",\"tripEndTime\":\"2024-01-07T04:35:09.000Z\",\"busStopLocation\":7002,\"routeTotalLength\":39598,\"busStopId\":15,\"tripRouteId\":3736,\"weatherTemperature\":24.4,\"weatherPrecipitation\":0.2},\n",
    "{\"occupancyLevel\":0,\"timestamp\":\"2024-01-07T03:28:17.000Z\",\"tripId\":83560365,\"tripScheduledTime\":\"2024-01-07T03:10:00.000Z\",\"tripStartTime\":\"2024-01-07T03:11:11.000Z\",\"tripEndTime\":\"2024-01-07T04:35:09.000Z\",\"busStopLocation\":7249,\"routeTotalLength\":39598,\"busStopId\":16,\"tripRouteId\":3736,\"weatherTemperature\":24.4,\"weatherPrecipitation\":0.2},\n",
    "{\"occupancyLevel\":0,\"timestamp\":\"2024-01-07T03:29:04.000Z\",\"tripId\":83560365,\"tripScheduledTime\":\"2024-01-07T03:10:00.000Z\",\"tripStartTime\":\"2024-01-07T03:11:11.000Z\",\"tripEndTime\":\"2024-01-07T04:35:09.000Z\",\"busStopLocation\":7648,\"routeTotalLength\":39598,\"busStopId\":17,\"tripRouteId\":3736,\"weatherTemperature\":24.4,\"weatherPrecipitation\":0.2},\n",
    "{\"occupancyLevel\":1,\"timestamp\":\"2024-01-07T03:28:47.000Z\",\"tripId\":83562911,\"tripScheduledTime\":\"2024-01-07T03:20:00.000Z\",\"tripStartTime\":\"2024-01-07T03:25:11.000Z\",\"tripEndTime\":\"2024-01-07T04:17:36.000Z\",\"busStopLocation\":2091,\"routeTotalLength\":30722,\"busStopId\":6450,\"tripRouteId\":3018,\"weatherTemperature\":24.4,\"weatherPrecipitation\":0.2},\n",
    "{\"occupancyLevel\":2,\"timestamp\":\"2024-01-07T03:29:42.000Z\",\"tripId\":83562911,\"tripScheduledTime\":\"2024-01-07T03:20:00.000Z\",\"tripStartTime\":\"2024-01-07T03:25:11.000Z\",\"tripEndTime\":\"2024-01-07T04:17:36.000Z\",\"busStopLocation\":2296,\"routeTotalLength\":30722,\"busStopId\":183,\"tripRouteId\":3018,\"weatherTemperature\":24.4,\"weatherPrecipitation\":0.2},\n",
    "    {\"occupancyLevel\":0,\"timestamp\":\"2024-02-02T03:03:04.000Z\",\"tripId\":84018657,\"tripScheduledTime\":\"2024-02-02T03:01:00.000Z\",\"tripStartTime\":\"2024-02-02T03:01:38.000Z\",\"tripEndTime\":\"2024-02-02T03:38:24.000Z\",\"busStopLocation\":916,\"routeTotalLength\":16614,\"busStopId\":58,\"tripRouteId\":2320,\"weatherTemperature\":25,\"weatherPrecipitation\":0},\n",
    "{\"occupancyLevel\":0,\"timestamp\":\"2024-02-02T03:03:04.000Z\",\"tripId\":84018657,\"tripScheduledTime\":\"2024-02-02T03:01:00.000Z\",\"tripStartTime\":\"2024-02-02T03:01:38.000Z\",\"tripEndTime\":\"2024-02-02T03:38:24.000Z\",\"busStopLocation\":1189,\"routeTotalLength\":16614,\"busStopId\":59,\"tripRouteId\":2320,\"weatherTemperature\":25,\"weatherPrecipitation\":0},\n",
    "{\"occupancyLevel\":0,\"timestamp\":\"2024-02-02T03:03:04.000Z\",\"tripId\":84018657,\"tripScheduledTime\":\"2024-02-02T03:01:00.000Z\",\"tripStartTime\":\"2024-02-02T03:01:38.000Z\",\"tripEndTime\":\"2024-02-02T03:38:24.000Z\",\"busStopLocation\":1464,\"routeTotalLength\":16614,\"busStopId\":60,\"tripRouteId\":2320,\"weatherTemperature\":25,\"weatherPrecipitation\":0},\n",
    "{\"occupancyLevel\":0,\"timestamp\":\"2024-02-02T03:03:04.000Z\",\"tripId\":84018657,\"tripScheduledTime\":\"2024-02-02T03:01:00.000Z\",\"tripStartTime\":\"2024-02-02T03:01:38.000Z\",\"tripEndTime\":\"2024-02-02T03:38:24.000Z\",\"busStopLocation\":1788,\"routeTotalLength\":16614,\"busStopId\":61,\"tripRouteId\":2320,\"weatherTemperature\":25,\"weatherPrecipitation\":0},\n",
    "    {\"occupancyLevel\":2,\"timestamp\":\"2024-02-02T03:30:20.000Z\",\"tripId\":84012647,\"tripScheduledTime\":\"2024-02-02T03:20:00.000Z\",\"tripStartTime\":\"2024-02-02T03:17:48.000Z\",\"tripEndTime\":\"2024-02-02T04:19:15.000Z\",\"busStopLocation\":6512,\"routeTotalLength\":32854,\"busStopId\":676,\"tripRouteId\":4206,\"weatherTemperature\":24.7,\"weatherPrecipitation\":0},\n",
    "{\"occupancyLevel\":2,\"timestamp\":\"2024-02-02T03:30:20.000Z\",\"tripId\":84012647,\"tripScheduledTime\":\"2024-02-02T03:20:00.000Z\",\"tripStartTime\":\"2024-02-02T03:17:48.000Z\",\"tripEndTime\":\"2024-02-02T04:19:15.000Z\",\"busStopLocation\":6666,\"routeTotalLength\":32854,\"busStopId\":678,\"tripRouteId\":4206,\"weatherTemperature\":24.7,\"weatherPrecipitation\":0},\n",
    "    \n",
    "    \n",
    "]\n",
    "\n",
    "for i in questions:\n",
    "    \n",
    "  q = convert_to_text(i).strip()\n",
    "  question = q[:-1]\n",
    "  print(question)\n",
    "  # right_resp = q[-1]\n",
    "  # # print(right_resp) \n",
    "  resp = boft_model.predict(question)\n",
    "  idx_resp = resp.find('### Response:')  \n",
    "  print(f\"**** resp was: \\n{resp}\")\n",
    "  # print(f\"**** resp was: \\n{resp[idx_resp+13:]}\")\n",
    "  # print(f\"**** but correct would be {q}\")\n",
    "  print(\"\\n\\n\\n\\n\")"
   ]
  },
  {
   "cell_type": "code",
   "execution_count": null,
   "id": "69c955c9-6ee2-4788-9662-ae415b42bc7c",
   "metadata": {},
   "outputs": [],
   "source": []
  }
 ],
 "metadata": {
  "kernelspec": {
   "display_name": "Python 3 (ipykernel)",
   "language": "python",
   "name": "python3"
  },
  "language_info": {
   "codemirror_mode": {
    "name": "ipython",
    "version": 3
   },
   "file_extension": ".py",
   "mimetype": "text/x-python",
   "name": "python",
   "nbconvert_exporter": "python",
   "pygments_lexer": "ipython3",
   "version": "3.13.2"
  }
 },
 "nbformat": 4,
 "nbformat_minor": 5
}
