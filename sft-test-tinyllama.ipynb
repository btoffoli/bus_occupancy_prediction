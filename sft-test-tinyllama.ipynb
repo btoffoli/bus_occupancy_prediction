{
 "cells": [
  {
   "cell_type": "markdown",
   "id": "006f15ac",
   "metadata": {},
   "source": [
    "Importando bibliotecas"
   ]
  },
  {
   "cell_type": "markdown",
   "id": "511bc102",
   "metadata": {},
   "source": [
    "Iniciando modelo TinyLlama-1.1B-Chat-v1.0"
   ]
  },
  {
   "cell_type": "code",
   "execution_count": 1,
   "id": "e95f542d-173e-4575-a23a-4df666e96f60",
   "metadata": {},
   "outputs": [
    {
     "name": "stderr",
     "output_type": "stream",
     "text": [
      "INFO:fine_tune:self.model_name: TinyLlama/TinyLlama-1.1B-Chat-v1.0\n",
      "DEBUG:urllib3.connectionpool:Starting new HTTPS connection (1): huggingface.co:443\n",
      "DEBUG:urllib3.connectionpool:https://huggingface.co:443 \"HEAD /TinyLlama/TinyLlama-1.1B-Chat-v1.0/resolve/main/config.json HTTP/1.1\" 200 0\n",
      "DEBUG:bitsandbytes.cextension:Loading bitsandbytes native library from: /home/btoffoli/projects/ufes/gpt/bus_occupancy_prediction/.venv/lib/python3.13/site-packages/bitsandbytes/libbitsandbytes_cuda124.so\n",
      "INFO:accelerate.utils.modeling:We will use 90% of the memory on device 0 for storing the model, and 10% for the buffer to avoid OOM. You can set `max_memory` in to a higher value to use more memory (at your own risk).\n",
      "DEBUG:urllib3.connectionpool:https://huggingface.co:443 \"HEAD /TinyLlama/TinyLlama-1.1B-Chat-v1.0/resolve/main/generation_config.json HTTP/1.1\" 200 0\n",
      "DEBUG:urllib3.connectionpool:https://huggingface.co:443 \"HEAD /TinyLlama/TinyLlama-1.1B-Chat-v1.0/resolve/main/tokenizer_config.json HTTP/1.1\" 200 0\n",
      "DEBUG:fine_tune:Reading datasets in batches: data_converted_txt\n",
      "DEBUG:fine_tune:filenames: ['occupancy-events-20240107.converted.txt', 'occupancy-events-20240108.converted.txt', 'occupancy-events-20240109.converted.txt', 'occupancy-events-20240110.converted.txt', 'occupancy-events-20240111.converted.txt', 'occupancy-events-20240112.converted.txt', 'occupancy-events-20240113.converted.txt', 'occupancy-events-20240114.converted.txt', 'occupancy-events-20240115.converted.txt', 'occupancy-events-20240116.converted.txt', 'occupancy-events-20240117.converted.txt', 'occupancy-events-20240118.converted.txt', 'occupancy-events-20240119.converted.txt', 'occupancy-events-20240120.converted.txt', 'occupancy-events-20240121.converted.txt', 'occupancy-events-20240122.converted.txt', 'occupancy-events-20240123.converted.txt', 'occupancy-events-20240124.converted.txt', 'occupancy-events-20240125.converted.txt', 'occupancy-events-20240126.converted.txt', 'occupancy-events-20240127.converted.txt', 'occupancy-events-20240128.converted.txt', 'occupancy-events-20240129.converted.txt', 'occupancy-events-20240130.converted.txt', 'occupancy-events-20240131.converted.txt', 'occupancy-events-20240201.converted.txt', 'occupancy-events-20240202.converted.txt', 'occupancy-events-20240203.converted.txt']\n",
      "DEBUG:urllib3.connectionpool:https://huggingface.co:443 \"HEAD /TinyLlama/TinyLlama-1.1B-Chat-v1.0/resolve/main/config.json HTTP/1.1\" 200 0\n"
     ]
    },
    {
     "name": "stdout",
     "output_type": "stream",
     "text": [
      "trainable params: 563,200 || all params: 1,100,611,584 || trainable%: 0.0512\n"
     ]
    },
    {
     "name": "stderr",
     "output_type": "stream",
     "text": [
      "DEBUG:urllib3.connectionpool:https://huggingface.co:443 \"HEAD /TinyLlama/TinyLlama-1.1B-Chat-v1.0/resolve/main/config.json HTTP/1.1\" 200 0\n"
     ]
    }
   ],
   "source": [
    "from fine_tune import BusOccupancyFineTune, convert_to_text\n",
    "\n",
    "boft_model = BusOccupancyFineTune(\n",
    "  mode='fine_tune',\n",
    "  model_name='TinyLlama/TinyLlama-1.1B-Chat-v1.0',\n",
    "  datasets_path='data_converted_txt',  \n",
    ")\n",
    "\n",
    "\n",
    "boft_model.train()\n",
    "\n",
    "\n"
   ]
  },
  {
   "cell_type": "markdown",
   "id": "e600e1fc",
   "metadata": {},
   "source": [
    "Trying to make prediction with the model still in memory that was just trained"
   ]
  },
  {
   "cell_type": "code",
   "execution_count": 2,
   "id": "2143e37d",
   "metadata": {},
   "outputs": [
    {
     "name": "stderr",
     "output_type": "stream",
     "text": [
      "DEBUG:fine_tune:Register(type): <class 'dict'>\n",
      "DEBUG:fine_tune:Register: {'occupancyLevel': 0, 'timestamp': '2024-01-07T03:28:17.000Z', 'tripId': 83560365, 'tripScheduledTime': '2024-01-07T03:10:00.000Z', 'tripStartTime': '2024-01-07T03:11:11.000Z', 'tripEndTime': '2024-01-07T04:35:09.000Z', 'busStopLocation': 7002, 'routeTotalLength': 39598, 'busStopId': 15, 'tripRouteId': 3736, 'weatherTemperature': 24.4, 'weatherPrecipitation': 0.2}\n"
     ]
    },
    {
     "name": "stdout",
     "output_type": "stream",
     "text": [
      "Below is an instruction that describes a task. Write a response that appropriately completes the request.\n",
      "\n",
      "### Instruction:\n",
      "Saturday, light rain and warm, route 3736, scheduled at 00:10 and started at 00:11. The occupancy level at bust stop 15 is:\n",
      "\n",
      "### Response:\n",
      "\n"
     ]
    },
    {
     "name": "stderr",
     "output_type": "stream",
     "text": [
      "DEBUG:fine_tune:Register(type): <class 'dict'>\n",
      "DEBUG:fine_tune:Register: {'occupancyLevel': 0, 'timestamp': '2024-01-07T03:28:17.000Z', 'tripId': 83560365, 'tripScheduledTime': '2024-01-07T03:10:00.000Z', 'tripStartTime': '2024-01-07T03:11:11.000Z', 'tripEndTime': '2024-01-07T04:35:09.000Z', 'busStopLocation': 7249, 'routeTotalLength': 39598, 'busStopId': 16, 'tripRouteId': 3736, 'weatherTemperature': 24.4, 'weatherPrecipitation': 0.2}\n"
     ]
    },
    {
     "name": "stdout",
     "output_type": "stream",
     "text": [
      "**** resp was: \n",
      "\n",
      "Saturday, light rain and warm, route 3736, scheduled at 00:10 and started at 00:11. The occupancy level at bust stop 15 is:\n",
      "\n",
      "- Occupancy level at bust stop 15 is: 100%\n",
      "\n",
      "\n",
      "\n",
      "\n",
      "\n",
      "Below is an instruction that describes a task. Write a response that appropriately completes the request.\n",
      "\n",
      "### Instruction:\n",
      "Saturday, light rain and warm, route 3736, scheduled at 00:10 and started at 00:11. The occupancy level at bust stop 16 is:\n",
      "\n",
      "### Response:\n",
      "\n"
     ]
    },
    {
     "name": "stderr",
     "output_type": "stream",
     "text": [
      "DEBUG:fine_tune:Register(type): <class 'dict'>\n",
      "DEBUG:fine_tune:Register: {'occupancyLevel': 0, 'timestamp': '2024-01-07T03:29:04.000Z', 'tripId': 83560365, 'tripScheduledTime': '2024-01-07T03:10:00.000Z', 'tripStartTime': '2024-01-07T03:11:11.000Z', 'tripEndTime': '2024-01-07T04:35:09.000Z', 'busStopLocation': 7648, 'routeTotalLength': 39598, 'busStopId': 17, 'tripRouteId': 3736, 'weatherTemperature': 24.4, 'weatherPrecipitation': 0.2}\n"
     ]
    },
    {
     "name": "stdout",
     "output_type": "stream",
     "text": [
      "**** resp was: \n",
      "\n",
      "Saturday, light rain and warm, route 3736, scheduled at 00:10 and started at 00:11. The occupancy level at bust stop 16 is:\n",
      "\n",
      "- Occupancy level at bust stop 16 is: 100%\n",
      "\n",
      "\n",
      "\n",
      "\n",
      "\n",
      "Below is an instruction that describes a task. Write a response that appropriately completes the request.\n",
      "\n",
      "### Instruction:\n",
      "Saturday, light rain and warm, route 3736, scheduled at 00:10 and started at 00:11. The occupancy level at bust stop 17 is:\n",
      "\n",
      "### Response:\n",
      "\n"
     ]
    },
    {
     "name": "stderr",
     "output_type": "stream",
     "text": [
      "DEBUG:fine_tune:Register(type): <class 'dict'>\n",
      "DEBUG:fine_tune:Register: {'occupancyLevel': 1, 'timestamp': '2024-01-07T03:28:47.000Z', 'tripId': 83562911, 'tripScheduledTime': '2024-01-07T03:20:00.000Z', 'tripStartTime': '2024-01-07T03:25:11.000Z', 'tripEndTime': '2024-01-07T04:17:36.000Z', 'busStopLocation': 2091, 'routeTotalLength': 30722, 'busStopId': 6450, 'tripRouteId': 3018, 'weatherTemperature': 24.4, 'weatherPrecipitation': 0.2}\n"
     ]
    },
    {
     "name": "stdout",
     "output_type": "stream",
     "text": [
      "**** resp was: \n",
      "\n",
      "Saturday, light rain and warm, route 3736, scheduled at 00:10 and started at 00:11. The occupancy level at bust stop 17 is:\n",
      "\n",
      "- Occupancy level at bust stop 17 is: 100%\n",
      "\n",
      "\n",
      "\n",
      "\n",
      "\n",
      "Below is an instruction that describes a task. Write a response that appropriately completes the request.\n",
      "\n",
      "### Instruction:\n",
      "Saturday, light rain and warm, route 3018, scheduled at 00:20 and started at 00:25. The occupancy level at bust stop 6450 is:\n",
      "\n",
      "### Response:\n",
      "\n"
     ]
    },
    {
     "name": "stderr",
     "output_type": "stream",
     "text": [
      "DEBUG:fine_tune:Register(type): <class 'dict'>\n",
      "DEBUG:fine_tune:Register: {'occupancyLevel': 2, 'timestamp': '2024-01-07T03:29:42.000Z', 'tripId': 83562911, 'tripScheduledTime': '2024-01-07T03:20:00.000Z', 'tripStartTime': '2024-01-07T03:25:11.000Z', 'tripEndTime': '2024-01-07T04:17:36.000Z', 'busStopLocation': 2296, 'routeTotalLength': 30722, 'busStopId': 183, 'tripRouteId': 3018, 'weatherTemperature': 24.4, 'weatherPrecipitation': 0.2}\n"
     ]
    },
    {
     "name": "stdout",
     "output_type": "stream",
     "text": [
      "**** resp was: \n",
      "\n",
      "I have no information about the route 3018 and its schedule. However, I can provide you with the information about the bust stop 6450's occupancy level. Please let me know if you need any further assistance.\n",
      "\n",
      "\n",
      "\n",
      "\n",
      "\n",
      "Below is an instruction that describes a task. Write a response that appropriately completes the request.\n",
      "\n",
      "### Instruction:\n",
      "Saturday, light rain and warm, route 3018, scheduled at 00:20 and started at 00:25. The occupancy level at bust stop 183 is:\n",
      "\n",
      "### Response:\n",
      "\n"
     ]
    },
    {
     "name": "stderr",
     "output_type": "stream",
     "text": [
      "DEBUG:fine_tune:Register(type): <class 'dict'>\n",
      "DEBUG:fine_tune:Register: {'occupancyLevel': 0, 'timestamp': '2024-02-02T03:03:04.000Z', 'tripId': 84018657, 'tripScheduledTime': '2024-02-02T03:01:00.000Z', 'tripStartTime': '2024-02-02T03:01:38.000Z', 'tripEndTime': '2024-02-02T03:38:24.000Z', 'busStopLocation': 916, 'routeTotalLength': 16614, 'busStopId': 58, 'tripRouteId': 2320, 'weatherTemperature': 25, 'weatherPrecipitation': 0}\n"
     ]
    },
    {
     "name": "stdout",
     "output_type": "stream",
     "text": [
      "**** resp was: \n",
      "\n",
      "I have no information about the route 3018 and its schedule. However, I can provide you with the information about the bust stop 183. The occupancy level at bust stop 183 is 100%.\n",
      "\n",
      "\n",
      "\n",
      "\n",
      "\n",
      "Below is an instruction that describes a task. Write a response that appropriately completes the request.\n",
      "\n",
      "### Instruction:\n",
      "Thursday, no rain and warm, route 2320, scheduled at 00:01 and started at 00:01. The occupancy level at bust stop 58 is:\n",
      "\n",
      "### Response:\n",
      "\n"
     ]
    },
    {
     "name": "stderr",
     "output_type": "stream",
     "text": [
      "DEBUG:fine_tune:Register(type): <class 'dict'>\n",
      "DEBUG:fine_tune:Register: {'occupancyLevel': 0, 'timestamp': '2024-02-02T03:03:04.000Z', 'tripId': 84018657, 'tripScheduledTime': '2024-02-02T03:01:00.000Z', 'tripStartTime': '2024-02-02T03:01:38.000Z', 'tripEndTime': '2024-02-02T03:38:24.000Z', 'busStopLocation': 1189, 'routeTotalLength': 16614, 'busStopId': 59, 'tripRouteId': 2320, 'weatherTemperature': 25, 'weatherPrecipitation': 0}\n"
     ]
    },
    {
     "name": "stdout",
     "output_type": "stream",
     "text": [
      "**** resp was: \n",
      "\n",
      "I have no information about the route 2320 and the scheduled time. Please provide me with the information about the route and the scheduled time.\n",
      "\n",
      "\n",
      "\n",
      "\n",
      "\n",
      "Below is an instruction that describes a task. Write a response that appropriately completes the request.\n",
      "\n",
      "### Instruction:\n",
      "Thursday, no rain and warm, route 2320, scheduled at 00:01 and started at 00:01. The occupancy level at bust stop 59 is:\n",
      "\n",
      "### Response:\n",
      "\n"
     ]
    },
    {
     "name": "stderr",
     "output_type": "stream",
     "text": [
      "DEBUG:fine_tune:Register(type): <class 'dict'>\n",
      "DEBUG:fine_tune:Register: {'occupancyLevel': 0, 'timestamp': '2024-02-02T03:03:04.000Z', 'tripId': 84018657, 'tripScheduledTime': '2024-02-02T03:01:00.000Z', 'tripStartTime': '2024-02-02T03:01:38.000Z', 'tripEndTime': '2024-02-02T03:38:24.000Z', 'busStopLocation': 1464, 'routeTotalLength': 16614, 'busStopId': 60, 'tripRouteId': 2320, 'weatherTemperature': 25, 'weatherPrecipitation': 0}\n"
     ]
    },
    {
     "name": "stdout",
     "output_type": "stream",
     "text": [
      "**** resp was: \n",
      "\n",
      "I have no information about the route 2320 and the scheduled time. Please provide me with the information about the route and the scheduled time.\n",
      "\n",
      "\n",
      "\n",
      "\n",
      "\n",
      "Below is an instruction that describes a task. Write a response that appropriately completes the request.\n",
      "\n",
      "### Instruction:\n",
      "Thursday, no rain and warm, route 2320, scheduled at 00:01 and started at 00:01. The occupancy level at bust stop 60 is:\n",
      "\n",
      "### Response:\n",
      "\n"
     ]
    },
    {
     "name": "stderr",
     "output_type": "stream",
     "text": [
      "DEBUG:fine_tune:Register(type): <class 'dict'>\n",
      "DEBUG:fine_tune:Register: {'occupancyLevel': 0, 'timestamp': '2024-02-02T03:03:04.000Z', 'tripId': 84018657, 'tripScheduledTime': '2024-02-02T03:01:00.000Z', 'tripStartTime': '2024-02-02T03:01:38.000Z', 'tripEndTime': '2024-02-02T03:38:24.000Z', 'busStopLocation': 1788, 'routeTotalLength': 16614, 'busStopId': 61, 'tripRouteId': 2320, 'weatherTemperature': 25, 'weatherPrecipitation': 0}\n"
     ]
    },
    {
     "name": "stdout",
     "output_type": "stream",
     "text": [
      "**** resp was: \n",
      "\n",
      "I have no information about the route 2320 and the scheduled time. Please provide me with the information about the route and the scheduled time.\n",
      "\n",
      "\n",
      "\n",
      "\n",
      "\n",
      "Below is an instruction that describes a task. Write a response that appropriately completes the request.\n",
      "\n",
      "### Instruction:\n",
      "Thursday, no rain and warm, route 2320, scheduled at 00:01 and started at 00:01. The occupancy level at bust stop 61 is:\n",
      "\n",
      "### Response:\n",
      "\n"
     ]
    },
    {
     "name": "stderr",
     "output_type": "stream",
     "text": [
      "DEBUG:fine_tune:Register(type): <class 'dict'>\n",
      "DEBUG:fine_tune:Register: {'occupancyLevel': 2, 'timestamp': '2024-02-02T03:30:20.000Z', 'tripId': 84012647, 'tripScheduledTime': '2024-02-02T03:20:00.000Z', 'tripStartTime': '2024-02-02T03:17:48.000Z', 'tripEndTime': '2024-02-02T04:19:15.000Z', 'busStopLocation': 6512, 'routeTotalLength': 32854, 'busStopId': 676, 'tripRouteId': 4206, 'weatherTemperature': 24.7, 'weatherPrecipitation': 0}\n"
     ]
    },
    {
     "name": "stdout",
     "output_type": "stream",
     "text": [
      "**** resp was: \n",
      "\n",
      "I have no information about the route 2320 and the scheduled time. Please provide me with the information about the route and the scheduled time.\n",
      "\n",
      "\n",
      "\n",
      "\n",
      "\n",
      "Below is an instruction that describes a task. Write a response that appropriately completes the request.\n",
      "\n",
      "### Instruction:\n",
      "Thursday, no rain and warm, route 4206, scheduled at 00:20 and started at 00:17. The occupancy level at bust stop 676 is:\n",
      "\n",
      "### Response:\n",
      "\n"
     ]
    },
    {
     "name": "stderr",
     "output_type": "stream",
     "text": [
      "DEBUG:fine_tune:Register(type): <class 'dict'>\n",
      "DEBUG:fine_tune:Register: {'occupancyLevel': 2, 'timestamp': '2024-02-02T03:30:20.000Z', 'tripId': 84012647, 'tripScheduledTime': '2024-02-02T03:20:00.000Z', 'tripStartTime': '2024-02-02T03:17:48.000Z', 'tripEndTime': '2024-02-02T04:19:15.000Z', 'busStopLocation': 6666, 'routeTotalLength': 32854, 'busStopId': 678, 'tripRouteId': 4206, 'weatherTemperature': 24.7, 'weatherPrecipitation': 0}\n"
     ]
    },
    {
     "name": "stdout",
     "output_type": "stream",
     "text": [
      "**** resp was: \n",
      "\n",
      "I have no information about the route 4206 and the scheduled time. However, I can provide you with the information about the bust stop 676. The occupancy level at bust stop 676 is 100%.\n",
      "\n",
      "\n",
      "\n",
      "\n",
      "\n",
      "Below is an instruction that describes a task. Write a response that appropriately completes the request.\n",
      "\n",
      "### Instruction:\n",
      "Thursday, no rain and warm, route 4206, scheduled at 00:20 and started at 00:17. The occupancy level at bust stop 678 is:\n",
      "\n",
      "### Response:\n",
      "\n",
      "**** resp was: \n",
      "\n",
      "I have no information about the route 4206 and the scheduled time. However, I can provide you with the information about the bust stop 678. The occupancy level at bust stop 678 is 100%.\n",
      "\n",
      "\n",
      "\n",
      "\n",
      "\n"
     ]
    }
   ],
   "source": [
    "from fine_tune import convert_to_text\n",
    "\n",
    "questions = [\n",
    "  {\"occupancyLevel\":0,\"timestamp\":\"2024-01-07T03:28:17.000Z\",\"tripId\":83560365,\"tripScheduledTime\":\"2024-01-07T03:10:00.000Z\",\"tripStartTime\":\"2024-01-07T03:11:11.000Z\",\"tripEndTime\":\"2024-01-07T04:35:09.000Z\",\"busStopLocation\":7002,\"routeTotalLength\":39598,\"busStopId\":15,\"tripRouteId\":3736,\"weatherTemperature\":24.4,\"weatherPrecipitation\":0.2},\n",
    "{\"occupancyLevel\":0,\"timestamp\":\"2024-01-07T03:28:17.000Z\",\"tripId\":83560365,\"tripScheduledTime\":\"2024-01-07T03:10:00.000Z\",\"tripStartTime\":\"2024-01-07T03:11:11.000Z\",\"tripEndTime\":\"2024-01-07T04:35:09.000Z\",\"busStopLocation\":7249,\"routeTotalLength\":39598,\"busStopId\":16,\"tripRouteId\":3736,\"weatherTemperature\":24.4,\"weatherPrecipitation\":0.2},\n",
    "{\"occupancyLevel\":0,\"timestamp\":\"2024-01-07T03:29:04.000Z\",\"tripId\":83560365,\"tripScheduledTime\":\"2024-01-07T03:10:00.000Z\",\"tripStartTime\":\"2024-01-07T03:11:11.000Z\",\"tripEndTime\":\"2024-01-07T04:35:09.000Z\",\"busStopLocation\":7648,\"routeTotalLength\":39598,\"busStopId\":17,\"tripRouteId\":3736,\"weatherTemperature\":24.4,\"weatherPrecipitation\":0.2},\n",
    "{\"occupancyLevel\":1,\"timestamp\":\"2024-01-07T03:28:47.000Z\",\"tripId\":83562911,\"tripScheduledTime\":\"2024-01-07T03:20:00.000Z\",\"tripStartTime\":\"2024-01-07T03:25:11.000Z\",\"tripEndTime\":\"2024-01-07T04:17:36.000Z\",\"busStopLocation\":2091,\"routeTotalLength\":30722,\"busStopId\":6450,\"tripRouteId\":3018,\"weatherTemperature\":24.4,\"weatherPrecipitation\":0.2},\n",
    "{\"occupancyLevel\":2,\"timestamp\":\"2024-01-07T03:29:42.000Z\",\"tripId\":83562911,\"tripScheduledTime\":\"2024-01-07T03:20:00.000Z\",\"tripStartTime\":\"2024-01-07T03:25:11.000Z\",\"tripEndTime\":\"2024-01-07T04:17:36.000Z\",\"busStopLocation\":2296,\"routeTotalLength\":30722,\"busStopId\":183,\"tripRouteId\":3018,\"weatherTemperature\":24.4,\"weatherPrecipitation\":0.2},\n",
    "    {\"occupancyLevel\":0,\"timestamp\":\"2024-02-02T03:03:04.000Z\",\"tripId\":84018657,\"tripScheduledTime\":\"2024-02-02T03:01:00.000Z\",\"tripStartTime\":\"2024-02-02T03:01:38.000Z\",\"tripEndTime\":\"2024-02-02T03:38:24.000Z\",\"busStopLocation\":916,\"routeTotalLength\":16614,\"busStopId\":58,\"tripRouteId\":2320,\"weatherTemperature\":25,\"weatherPrecipitation\":0},\n",
    "{\"occupancyLevel\":0,\"timestamp\":\"2024-02-02T03:03:04.000Z\",\"tripId\":84018657,\"tripScheduledTime\":\"2024-02-02T03:01:00.000Z\",\"tripStartTime\":\"2024-02-02T03:01:38.000Z\",\"tripEndTime\":\"2024-02-02T03:38:24.000Z\",\"busStopLocation\":1189,\"routeTotalLength\":16614,\"busStopId\":59,\"tripRouteId\":2320,\"weatherTemperature\":25,\"weatherPrecipitation\":0},\n",
    "{\"occupancyLevel\":0,\"timestamp\":\"2024-02-02T03:03:04.000Z\",\"tripId\":84018657,\"tripScheduledTime\":\"2024-02-02T03:01:00.000Z\",\"tripStartTime\":\"2024-02-02T03:01:38.000Z\",\"tripEndTime\":\"2024-02-02T03:38:24.000Z\",\"busStopLocation\":1464,\"routeTotalLength\":16614,\"busStopId\":60,\"tripRouteId\":2320,\"weatherTemperature\":25,\"weatherPrecipitation\":0},\n",
    "{\"occupancyLevel\":0,\"timestamp\":\"2024-02-02T03:03:04.000Z\",\"tripId\":84018657,\"tripScheduledTime\":\"2024-02-02T03:01:00.000Z\",\"tripStartTime\":\"2024-02-02T03:01:38.000Z\",\"tripEndTime\":\"2024-02-02T03:38:24.000Z\",\"busStopLocation\":1788,\"routeTotalLength\":16614,\"busStopId\":61,\"tripRouteId\":2320,\"weatherTemperature\":25,\"weatherPrecipitation\":0},\n",
    "    {\"occupancyLevel\":2,\"timestamp\":\"2024-02-02T03:30:20.000Z\",\"tripId\":84012647,\"tripScheduledTime\":\"2024-02-02T03:20:00.000Z\",\"tripStartTime\":\"2024-02-02T03:17:48.000Z\",\"tripEndTime\":\"2024-02-02T04:19:15.000Z\",\"busStopLocation\":6512,\"routeTotalLength\":32854,\"busStopId\":676,\"tripRouteId\":4206,\"weatherTemperature\":24.7,\"weatherPrecipitation\":0},\n",
    "{\"occupancyLevel\":2,\"timestamp\":\"2024-02-02T03:30:20.000Z\",\"tripId\":84012647,\"tripScheduledTime\":\"2024-02-02T03:20:00.000Z\",\"tripStartTime\":\"2024-02-02T03:17:48.000Z\",\"tripEndTime\":\"2024-02-02T04:19:15.000Z\",\"busStopLocation\":6666,\"routeTotalLength\":32854,\"busStopId\":678,\"tripRouteId\":4206,\"weatherTemperature\":24.7,\"weatherPrecipitation\":0},\n",
    "    \n",
    "    \n",
    "]\n",
    "\n",
    "for i in questions:\n",
    "    \n",
    "  q = convert_to_text(i).strip()\n",
    "  question = q[:-1]\n",
    "  print(question)\n",
    "  # right_resp = q[-1]\n",
    "  # # print(right_resp) \n",
    "  resp = boft_model.predict(question)\n",
    "  idx_resp = resp.find('### Response:')  \n",
    "    \n",
    "  print(f\"**** resp was: \\n{resp[idx_resp+13:]}\")\n",
    "  # print(f\"**** but correct would be {q}\")\n",
    "  print(\"\\n\\n\\n\\n\")"
   ]
  },
  {
   "cell_type": "code",
   "execution_count": null,
   "id": "cacc41c4-06f7-4af2-a378-40478355a695",
   "metadata": {},
   "outputs": [],
   "source": []
  }
 ],
 "metadata": {
  "kernelspec": {
   "display_name": "Python 3 (ipykernel)",
   "language": "python",
   "name": "python3"
  },
  "language_info": {
   "codemirror_mode": {
    "name": "ipython",
    "version": 3
   },
   "file_extension": ".py",
   "mimetype": "text/x-python",
   "name": "python",
   "nbconvert_exporter": "python",
   "pygments_lexer": "ipython3",
   "version": "3.13.2"
  }
 },
 "nbformat": 4,
 "nbformat_minor": 5
}
